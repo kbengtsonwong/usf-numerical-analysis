{
  "cells": [
    {
      "cell_type": "markdown",
      "source": [
        "# Project 2: Gaussian Elimination and Least Squares"
      ],
      "metadata": {}
    },
    {
      "cell_type": "markdown",
      "source": [
        "**Your name here:**    <i>Kevin Wong</i>"
      ],
      "metadata": {}
    },
    {
      "cell_type": "markdown",
      "source": [
        "## Computing power\n",
        "The LINPACK Benchmarks are a measure of a system's floating point computing power. Introduced by Jack Dongarra, they measure how fast a computer solves a dense n by n system of linear equations $Ax = b$. This is the standard measure for computer speed. Supercomputers (which usually have linux operating systems) can do about 10 petaflops in one second. One petaflop is $10^{15}$ flops. \n",
        "\n",
        "Titan, a supercomputer in the Oak Ridge National lab, is the fastest computer in the US. It can perform 17.59 petaflops every second.\n",
        "\n",
        "(2) Calculate how much time (in seconds) does Titan need to solve a 5000 by 5000 system $Ax=b$, assuming it takes $\\frac{2}{3}n^3$ flops for Gauss Elimination?"
      ],
      "metadata": {}
    },
    {
      "cell_type": "code",
      "source": [
        "from __future__ import division\n",
        "import numpy as np"
      ],
      "outputs": [],
      "execution_count": 21,
      "metadata": {}
    },
    {
      "cell_type": "code",
      "source": [
        "# Number of floating point operations needed to solve a 5000 x 5000 system\n",
        "flops = (2/3)*(5000**3)\n",
        "flops"
      ],
      "outputs": [
        {
          "output_type": "execute_result",
          "execution_count": 489,
          "data": {
            "text/plain": [
              "83333333333.33333"
            ]
          },
          "metadata": {}
        }
      ],
      "execution_count": 489,
      "metadata": {}
    },
    {
      "cell_type": "code",
      "source": [
        "# Speed is seconds / flop\n",
        "speed = (1/17.59e15)\n",
        "print \"Titan needs \" + str(flops * speed) + \" seconds to solve this system.\""
      ],
      "outputs": [
        {
          "output_type": "stream",
          "name": "stdout",
          "text": [
            "Titan needs 4.73754026909e-06 seconds to solve this system.\n"
          ]
        }
      ],
      "execution_count": 490,
      "metadata": {}
    },
    {
      "cell_type": "markdown",
      "source": [
        "Laptops nowadays is around 10's gigaflops. **Now let's see how fast your own machine is**.\n",
        "\n",
        "(3) Create a 5000 by 5000 random matrix $R$, and create a 5000 by 1 random vector $rb$, where each entry of $R$ and $rb$ is standard normal distribution (Hint: look up numpy.random)"
      ],
      "metadata": {}
    },
    {
      "cell_type": "code",
      "source": [
        "matrix_R = np.random.random_sample((5000, 5000))\n",
        "matrix_R"
      ],
      "outputs": [
        {
          "output_type": "execute_result",
          "execution_count": 32,
          "data": {
            "text/plain": [
              "array([[ 0.20297266,  0.44583828,  0.71365124, ...,  0.36752773,\n",
              "         0.89664547,  0.77969705],\n",
              "       [ 0.56848622,  0.29928423,  0.92575022, ...,  0.89474379,\n",
              "         0.67847516,  0.80210088],\n",
              "       [ 0.99310362,  0.76669324,  0.14551459, ...,  0.70357006,\n",
              "         0.87447339,  0.89038864],\n",
              "       ..., \n",
              "       [ 0.46671164,  0.07044469,  0.46179481, ...,  0.19961043,\n",
              "         0.23365951,  0.46062463],\n",
              "       [ 0.29646141,  0.54859435,  0.81998432, ...,  0.49982208,\n",
              "         0.40516469,  0.02266658],\n",
              "       [ 0.43993653,  0.45650413,  0.02144098, ...,  0.95532874,\n",
              "         0.3769568 ,  0.67178049]])"
            ]
          },
          "metadata": {}
        }
      ],
      "execution_count": 32,
      "metadata": {}
    },
    {
      "cell_type": "code",
      "source": [
        "vector_rb = np.random.random_sample((5000, 1))\n",
        "vector_rb"
      ],
      "outputs": [
        {
          "output_type": "execute_result",
          "execution_count": 33,
          "data": {
            "text/plain": [
              "array([[ 0.3615245 ],\n",
              "       [ 0.34885254],\n",
              "       [ 0.12914578],\n",
              "       ..., \n",
              "       [ 0.12375889],\n",
              "       [ 0.05551473],\n",
              "       [ 0.1944551 ]])"
            ]
          },
          "metadata": {}
        }
      ],
      "execution_count": 33,
      "metadata": {}
    },
    {
      "cell_type": "markdown",
      "source": [
        "(4) Measure how much time does it take to solve this random $Rx=rb$. Below is an easy way to measure time"
      ],
      "metadata": {}
    },
    {
      "cell_type": "code",
      "source": [
        "import timeit\n",
        "start = timeit.default_timer()\n",
        "\n",
        "# Solving the linear equation for x.\n",
        "np.linalg.solve(matrix_R, vector_rb)\n",
        "\n",
        "end = timeit.default_timer()\n",
        "time = end - start\n",
        "print  \"Solving took \" + str(time) + \" seconds\""
      ],
      "outputs": [
        {
          "output_type": "stream",
          "name": "stdout",
          "text": [
            "Solving took 2.28144288063 seconds\n"
          ]
        }
      ],
      "execution_count": 50,
      "metadata": {}
    },
    {
      "cell_type": "markdown",
      "source": [
        "(5) Now calculate how many gigaflops your computer can do in a second."
      ],
      "metadata": {}
    },
    {
      "cell_type": "code",
      "source": [
        "# Gigaflop is 10**9 flops\n",
        "\n",
        "# flops / sec   *   gigaflops / flops   =  gigflops / sec\n",
        "print \"My computer solved this problem at \" + str((flops / time) / (1e9)) + \" gigaflops per second\""
      ],
      "outputs": [
        {
          "output_type": "stream",
          "name": "stdout",
          "text": [
            "My computer solved this problem at 36.5265920268 gigaflops per second\n"
          ]
        }
      ],
      "execution_count": 51,
      "metadata": {}
    },
    {
      "cell_type": "markdown",
      "source": [
        "(5) Also measure how much total time your computer takes to find inverse of $R$ and multiply $R^{-1}*b$. You should get the message that this is a worse way to solve $Rx=rb$. In general, it never does you any good to find inverse in numerical computing."
      ],
      "metadata": {}
    },
    {
      "cell_type": "code",
      "source": [
        " start = timeit.default_timer()\n",
        "\n",
        "# Solving by finding the inverse and multiplying\n",
        "matrix_R_inv = np.linalg.inv(matrix_R)\n",
        "np.linalg.multi_dot((matrix_R_inv, vector_rb))\n",
        "\n",
        "end = timeit.default_timer()\n",
        "time = end - start\n",
        "print  \"Solving by finding the inverse took \" + str(time) + \" seconds\""
      ],
      "outputs": [
        {
          "output_type": "stream",
          "name": "stdout",
          "text": [
            "Solving by finding the inverse took 8.19817996025 seconds\n"
          ]
        }
      ],
      "execution_count": 48,
      "metadata": {}
    },
    {
      "cell_type": "markdown",
      "source": [
        "## Gaussian Elimination from scratch"
      ],
      "metadata": {}
    },
    {
      "cell_type": "markdown",
      "source": [
        "Below is the SPLU function that I wrote. It decompose $A$ as $A=PLU$ using **Scaled Partial Pivoting**, where $P$ is a permutation matrix, $L$ is lower triangular, and $U$ is upper triangular."
      ],
      "metadata": {}
    },
    {
      "cell_type": "code",
      "source": [
        "import numpy as np\n",
        "# Input A is any invertible matrix\n",
        "# return P,L,U such that A = PLU\n",
        "def SPLU(A):     \n",
        "    sA = A.shape\n",
        "    # make sure it is in float\n",
        "    A = A.astype(float)\n",
        "    \n",
        "    #Check A is square    \n",
        "    if sA[0] != sA[1]:\n",
        "        raise ValueError('You need to enter a square matrix.')\n",
        "    n = sA[0]    \n",
        "    # find the max in each row\n",
        "    AA = np.absolute(A)\n",
        "    s = np.amax(AA,axis=1)\n",
        "    RowInd = []  #Initiate an empty list for row indices\n",
        "    L = np.identity(n)\n",
        "    for j in range(n-1): # at column j\n",
        "        # Find the row index of the pivot\n",
        "        allRI = list(set(range(n)) - set(RowInd))\n",
        "        allRelV = AA[allRI,j]/s[allRI]\n",
        "        fi = np.argmax(allRelV)\n",
        "        ri = allRI[fi] #ri is the pivot row idex        \n",
        "        #update RowInd\n",
        "        RowInd.append(ri)        \n",
        "        for i in list(set(allRI) - set([ri])): \n",
        "            if A[ri,j] == 0:\n",
        "                raise ValueError('You need to enter an invertible matrix.')\n",
        "            c = -A[i,j]/A[ri,j]\n",
        "            A[i,j:n] = A[ri, j:n]*c + A[i,j:n] \n",
        "            if c != 0:\n",
        "                L[i,ri]= -c\n",
        "        print A\n",
        "    # build P,L,U according to RowInd\n",
        "    LastL = list(set(range(n)) - set(RowInd))\n",
        "    LastI = LastL[0]\n",
        "    RowInd.append(LastI)\n",
        "    I = np.identity(n)\n",
        "    P = I[:,RowInd]\n",
        "    U = A[RowInd,:]\n",
        "    L = L[:,RowInd] #permute columns \n",
        "    L = L[RowInd,:]\n",
        "    return (P, L, U)"
      ],
      "outputs": [],
      "execution_count": 56,
      "metadata": {
        "collapsed": true
      }
    },
    {
      "cell_type": "markdown",
      "source": [
        "(6) Use the above function to check your work on chapter 4 exercise 6. Print out P,L,U, and make sure their product is the original matrix."
      ],
      "metadata": {}
    },
    {
      "cell_type": "code",
      "source": [
        "matrix_A = np.array(([3, -6, -3], [2, 0, 6], [-4, 7, 4]))\n",
        "matrix_A"
      ],
      "outputs": [
        {
          "output_type": "execute_result",
          "execution_count": 57,
          "data": {
            "text/plain": [
              "array([[ 3, -6, -3],\n",
              "       [ 2,  0,  6],\n",
              "       [-4,  7,  4]])"
            ]
          },
          "metadata": {}
        }
      ],
      "execution_count": 57,
      "metadata": {}
    },
    {
      "cell_type": "code",
      "source": [
        "P, L, U = SPLU(matrix_A)"
      ],
      "outputs": [
        {
          "output_type": "stream",
          "name": "stdout",
          "text": [
            "[[ 0.   -0.75  0.  ]\n",
            " [ 0.    3.5   8.  ]\n",
            " [-4.    7.    4.  ]]\n",
            "[[ 0.   -0.75  0.  ]\n",
            " [ 0.    0.    8.  ]\n",
            " [-4.    7.    4.  ]]\n"
          ]
        }
      ],
      "execution_count": 59,
      "metadata": {}
    },
    {
      "cell_type": "code",
      "source": [
        "P"
      ],
      "outputs": [
        {
          "output_type": "execute_result",
          "execution_count": 60,
          "data": {
            "text/plain": [
              "array([[ 0.,  1.,  0.],\n",
              "       [ 0.,  0.,  1.],\n",
              "       [ 1.,  0.,  0.]])"
            ]
          },
          "metadata": {}
        }
      ],
      "execution_count": 60,
      "metadata": {}
    },
    {
      "cell_type": "code",
      "source": [
        "L"
      ],
      "outputs": [
        {
          "output_type": "execute_result",
          "execution_count": 61,
          "data": {
            "text/plain": [
              "array([[ 1.        ,  0.        ,  0.        ],\n",
              "       [-0.75      ,  1.        ,  0.        ],\n",
              "       [-0.5       , -4.66666667,  1.        ]])"
            ]
          },
          "metadata": {}
        }
      ],
      "execution_count": 61,
      "metadata": {}
    },
    {
      "cell_type": "code",
      "source": [
        "U"
      ],
      "outputs": [
        {
          "output_type": "execute_result",
          "execution_count": 62,
          "data": {
            "text/plain": [
              "array([[-4.  ,  7.  ,  4.  ],\n",
              "       [ 0.  , -0.75,  0.  ],\n",
              "       [ 0.  ,  0.  ,  8.  ]])"
            ]
          },
          "metadata": {}
        }
      ],
      "execution_count": 62,
      "metadata": {}
    },
    {
      "cell_type": "code",
      "source": [
        "# Decomposition into permutation, lower triangular, and upper triangular matrices works\n",
        "np.linalg.multi_dot([P, L, U])"
      ],
      "outputs": [
        {
          "output_type": "execute_result",
          "execution_count": 491,
          "data": {
            "text/plain": [
              "array([[ 3., -6., -3.],\n",
              "       [ 2.,  0.,  6.],\n",
              "       [-4.,  7.,  4.]])"
            ]
          },
          "metadata": {}
        }
      ],
      "execution_count": 491,
      "metadata": {}
    },
    {
      "cell_type": "markdown",
      "source": [
        "(7) Write a function SL(L,b) to solve $Lx=b$ where $L$ is lower triangular. Make sure you first verify that $L$ is lower triangular and invertible. \n",
        "\n",
        "**Try to write comments/explanations when you write a function.**"
      ],
      "metadata": {}
    },
    {
      "cell_type": "code",
      "source": [
        "def SL(L, b):\n",
        "    # Check L is invertible\n",
        "    if np.linalg.det(L) == 0:\n",
        "        raise ValueError('You need an invertible matrix')\n",
        "        \n",
        "    # Check L is lower triangular\n",
        "    sL = L.shape\n",
        "    row = sL[0]\n",
        "    col = sL[1]    \n",
        "    \n",
        "    for i in range(1, col+1):\n",
        "        if any(L[i-1, i:] != 0):\n",
        "            raise ValueError(\"You need a lower triangular matrix\")\n",
        "            \n",
        "    \n",
        "    # Initialize solution to be returned\n",
        "    solution_y = np.empty(row)\n",
        "    \n",
        "    # Increment through the rows starting at row 0\n",
        "    i = 0\n",
        "    while(i < row):\n",
        "        \n",
        "        # The first solution is found through simple division\n",
        "        solution_y[i] = b[i] / L[i, 0]\n",
        "        \n",
        "        # The remaining terms must be found by incorporating previous \"solved\" terms\n",
        "        if i > 0:\n",
        "            right_side_term = b[i] \n",
        "            for j in range(i):\n",
        "                multiplication = L[i, j]*solution_y[j]\n",
        "                right_side_term = right_side_term - (multiplication)\n",
        "                \n",
        "            # Peform a \"final\" division to find each subsequent term after some algebra\n",
        "            solution_y[i] = right_side_term / L[i, i]\n",
        "            \n",
        "        # Proceed to the next row\n",
        "        i+=1\n",
        "     \n",
        "    return solution_y\n",
        "    "
      ],
      "outputs": [],
      "execution_count": 434,
      "metadata": {}
    },
    {
      "cell_type": "markdown",
      "source": [
        "(8) Test your SL function on chapter 4 exercise 5, where L is the lower triangular matrix there, and b=(-3,-22,3).\n",
        "\n",
        "**Call the solution y**"
      ],
      "metadata": {}
    },
    {
      "cell_type": "code",
      "source": [
        "matrix_L = np.array(([3, 0, 0], [2, 4, 0], [-4, -1, 2]))\n",
        "vector_b = np.array([-3, -22, 3])\n",
        "\n",
        "# Correctly solves for y\n",
        "solution_y = SL(matrix_L, vector_b)\n",
        "solution_y"
      ],
      "outputs": [
        {
          "output_type": "execute_result",
          "execution_count": 492,
          "data": {
            "text/plain": [
              "array([-1., -5., -3.])"
            ]
          },
          "metadata": {}
        }
      ],
      "execution_count": 492,
      "metadata": {}
    },
    {
      "cell_type": "markdown",
      "source": [
        "(9) Write a function SU(U,b) to solve $Ux=b$ where $U$ is upper triangular. Make sure you verify that $U$ is upper triangular and invertible. This should be only a small modification of your previous function."
      ],
      "metadata": {}
    },
    {
      "cell_type": "code",
      "source": [
        "def SU(U, b):\n",
        "    # Check U is invertible\n",
        "    if np.linalg.det(U) == 0:\n",
        "        raise ValueError('You need an invertible matrix')\n",
        "        \n",
        "    # Check U is lower triangular\n",
        "    sU = U.shape\n",
        "    row = sU[0]\n",
        "    col = sU[1]    \n",
        "        \n",
        "    for i in range(1, col):\n",
        "        if any(U[i, :i] != 0):\n",
        "            raise ValueError(\"You need an upper triangular matrix\")\n",
        "            \n",
        "    \n",
        "    # Initialize solution to be returned\n",
        "    solution_x = np.empty(row)\n",
        "    \n",
        "    # Since we are working with an upper triangular, it makes sense to start at the bottom and work up\n",
        "    i = row - 1\n",
        "    while(i >= 0):\n",
        "        \n",
        "        # Calculate the last term first, through simple division\n",
        "        solution_x[i] = b[i] / U[i, i]\n",
        "        \n",
        "        # For subsequent terms, incorporate previously solved terms to find a solution.\n",
        "        if i < row - 1:\n",
        "            right_side_term = b[i] \n",
        "            for j in range(col-1, i, -1):\n",
        "                multiplication = U[i, j]*solution_x[j]\n",
        "                right_side_term = right_side_term - (multiplication)\n",
        "            solution_x[i] = right_side_term / U[i, i]\n",
        "        \n",
        "        # Proceed to the next row\n",
        "        i-=1\n",
        "     \n",
        "    return solution_x\n",
        "    "
      ],
      "outputs": [],
      "execution_count": 436,
      "metadata": {}
    },
    {
      "cell_type": "markdown",
      "source": [
        "(10) Test your SU function on chapter 4 exercise 5, where U is the upper triangular matrix there, and b is the y vector that you solved in (8)."
      ],
      "metadata": {}
    },
    {
      "cell_type": "code",
      "source": [
        "matrix_U = np.array(([1, -2, -1], [0, 1, 2], [0, 0, 1]))\n",
        "matrix_U"
      ],
      "outputs": [
        {
          "output_type": "execute_result",
          "execution_count": 437,
          "data": {
            "text/plain": [
              "array([[ 1, -2, -1],\n",
              "       [ 0,  1,  2],\n",
              "       [ 0,  0,  1]])"
            ]
          },
          "metadata": {}
        }
      ],
      "execution_count": 437,
      "metadata": {
        "scrolled": true
      }
    },
    {
      "cell_type": "code",
      "source": [
        "solution_y"
      ],
      "outputs": [
        {
          "output_type": "execute_result",
          "execution_count": 438,
          "data": {
            "text/plain": [
              "array([-1., -5., -3.])"
            ]
          },
          "metadata": {}
        }
      ],
      "execution_count": 438,
      "metadata": {}
    },
    {
      "cell_type": "code",
      "source": [
        "# Correctly solves for x\n",
        "SU(matrix_U, solution_y)"
      ],
      "outputs": [
        {
          "output_type": "execute_result",
          "execution_count": 493,
          "data": {
            "text/plain": [
              "array([-2.,  1., -3.])"
            ]
          },
          "metadata": {}
        }
      ],
      "execution_count": 493,
      "metadata": {}
    },
    {
      "cell_type": "markdown",
      "source": [
        "(11) Write a function MySolve(A,b) that solves Ax=b using scaled partial pivoting. Your code will call SPLU, SU, SL, and should be only a few lines."
      ],
      "metadata": {}
    },
    {
      "cell_type": "code",
      "source": [
        "# Combines PLU decomposition with LU solving function to solve Ax = b\n",
        "def MySolve(A, b):\n",
        "    P, L, U = SPLU(A)\n",
        "    b = np.linalg.multi_dot(([np.linalg.inv(P), b]))\n",
        "    y = SL(L, b)\n",
        "    return SU(U, y)"
      ],
      "outputs": [],
      "execution_count": 495,
      "metadata": {
        "collapsed": true
      }
    },
    {
      "cell_type": "markdown",
      "source": [
        "(12) Test MySolve on chapter 4 exercise 5."
      ],
      "metadata": {}
    },
    {
      "cell_type": "code",
      "source": [
        "matrix_A"
      ],
      "outputs": [
        {
          "output_type": "execute_result",
          "execution_count": 496,
          "data": {
            "text/plain": [
              "array([[ 3, -6, -3],\n",
              "       [ 2,  0,  6],\n",
              "       [-4,  7,  4]])"
            ]
          },
          "metadata": {}
        }
      ],
      "execution_count": 496,
      "metadata": {}
    },
    {
      "cell_type": "code",
      "source": [
        "vector_b"
      ],
      "outputs": [
        {
          "output_type": "execute_result",
          "execution_count": 497,
          "data": {
            "text/plain": [
              "array([ -3, -22,   3])"
            ]
          },
          "metadata": {}
        }
      ],
      "execution_count": 497,
      "metadata": {}
    },
    {
      "cell_type": "code",
      "source": [
        "# Correctly finds the weights of columns of A to give vector b\n",
        "MySolve(matrix_A, vector_b)"
      ],
      "outputs": [
        {
          "output_type": "stream",
          "name": "stdout",
          "text": [
            "[[ 0.   -0.75  0.  ]\n",
            " [ 0.    3.5   8.  ]\n",
            " [-4.    7.    4.  ]]\n",
            "[[ 0.   -0.75  0.  ]\n",
            " [ 0.    0.    8.  ]\n",
            " [-4.    7.    4.  ]]\n"
          ]
        },
        {
          "output_type": "execute_result",
          "execution_count": 499,
          "data": {
            "text/plain": [
              "array([-2.,  1., -3.])"
            ]
          },
          "metadata": {}
        }
      ],
      "execution_count": 499,
      "metadata": {}
    },
    {
      "cell_type": "markdown",
      "source": [
        "## Least Square via Cholesky"
      ],
      "metadata": {}
    },
    {
      "cell_type": "markdown",
      "source": [
        "(13) Write a function LS(A,b) to find the least square solution of Ax=b, where A has independent columns. Your algorithm will first use python's cholesky function, then use your own SL and SU functions to find the final solution."
      ],
      "metadata": {}
    },
    {
      "cell_type": "code",
      "source": [
        "# Function to find the least squares solution x_ls via Cholesky factorization \n",
        "def LS(A, b):\n",
        "    matrix_B = np.dot(A.T, A)\n",
        "    f = np.dot(A.T, b)\n",
        "    L = np.linalg.cholesky(matrix_B)\n",
        "    y = SL(L, f)\n",
        "    x_ls = SU(L.T, y)\n",
        "    return x_ls"
      ],
      "outputs": [],
      "execution_count": 500,
      "metadata": {
        "collapsed": true
      }
    },
    {
      "cell_type": "markdown",
      "source": [
        "Below is the scores of games played between Team A, B, C, D, E\n",
        "\n",
        "| Home | Away | Home score | Away score |\n",
        "|:--- | :---  | :---  | :---  |\n",
        "|A|B|10|4|\n",
        "|A|C|1|3|\n",
        "|A|D|8|4|\n",
        "|A|E|6|4|\n",
        "|B|A|5|9|\n",
        "|B|C|1|13|\n",
        "|B|D|5|4|\n",
        "|C|A|16|12|\n",
        "|C|B|11|13|\n",
        "|C|D|8|4|\n",
        "|C|E|9|3|\n",
        "|D|A|8|13|\n",
        "|D|B|5|4|\n",
        "|D|C|6|12|\n",
        "|E|B|3|4|\n",
        "|E|C|1|3|\n",
        "|E|D|3|6|"
      ],
      "metadata": {}
    },
    {
      "cell_type": "markdown",
      "source": [
        "(14) Extra credit problem: Try your best to rank these 5 teams simply by staring at the table:"
      ],
      "metadata": {}
    },
    {
      "cell_type": "code",
      "source": [
        "# Teams A and C do well, and in the games A plays against C, C won both times. \n",
        "\n",
        "# 1. C\n",
        "# 2. A\n",
        "\n",
        "# E lost all their games, so it's the worst team.\n",
        "\n",
        "# 5. E\n",
        "\n",
        "# B lost to A twice, and lost to C once and beat C once, but it was close. B won a few more times than D.\n",
        "\n",
        "# 3. B\n",
        "# 4. D"
      ],
      "outputs": [],
      "execution_count": 501,
      "metadata": {
        "collapsed": true
      }
    },
    {
      "cell_type": "markdown",
      "source": [
        "(15) Assign each team an overall score $s_i$ and use the function you wrote in (13) to find the scores. We can assume $\\sum s_i=100$."
      ],
      "metadata": {}
    },
    {
      "cell_type": "code",
      "source": [
        "scores = np.array([[1, -1, 0, 0, 0],  # A\n",
        "                   [-1, 0, 1, 0, 0], \n",
        "                   [1, 0, 0, -1, 0], \n",
        "                   [1, 0, 0, 0, -1], \n",
        "                   [1, -1, 0, 0, 0],  # B\n",
        "                   [0, -1, 1, 0, 0],  \n",
        "                   [0, 1, 0, -1, 0], \n",
        "                   [-1, 0, 1, 0, 0],  # C\n",
        "                   [0, 1, -1, 0, 0], \n",
        "                   [0, 0, 1, -1, 0], \n",
        "                   [0, 0, 1, 0, -1], \n",
        "                   [1, 0, 0, -1, 0],  # D\n",
        "                   [0, -1, 0, 1, 0], \n",
        "                   [0, 0, 1, -1, 0],\n",
        "                   [0, 1, 0, 0, -1],  # E\n",
        "                   [0, 0, 1, 0, -1], \n",
        "                   [0, 0, 0, 1, -1]])\n",
        "\n",
        "score_differential = np.array([4, 3, 4, 4, 9, 13, 4, 12, 13, 4, 3, 13, 4, 12, 4, 3, 6])"
      ],
      "outputs": [],
      "execution_count": 502,
      "metadata": {}
    },
    {
      "cell_type": "code",
      "source": [
        "# Call LS to find the least square solution to this linear system\n",
        "x_ls = LS(scores, score_differential)\n",
        "x_ls"
      ],
      "outputs": [
        {
          "output_type": "execute_result",
          "execution_count": 503,
          "data": {
            "text/plain": [
              "array([ 2.72025463, -0.39085648,  4.00729167, -2.39085648, -2.409375  ])"
            ]
          },
          "metadata": {}
        }
      ],
      "execution_count": 503,
      "metadata": {}
    },
    {
      "cell_type": "code",
      "source": [
        "# Adjust team weights Si such that the sum of the weights is 100.\n",
        "sum(x_ls+19.6929)"
      ],
      "outputs": [
        {
          "output_type": "execute_result",
          "execution_count": 504,
          "data": {
            "text/plain": [
              "100.00095833333333"
            ]
          },
          "metadata": {}
        }
      ],
      "execution_count": 504,
      "metadata": {}
    },
    {
      "cell_type": "code",
      "source": [
        "# These are the adjusted team scores\n",
        "x_ls = x_ls + 19.6929\n",
        "x_ls"
      ],
      "outputs": [
        {
          "output_type": "execute_result",
          "execution_count": 505,
          "data": {
            "text/plain": [
              "array([ 22.41315463,  19.30204352,  23.70019167,  17.30204352,  17.283525  ])"
            ]
          },
          "metadata": {}
        }
      ],
      "execution_count": 505,
      "metadata": {}
    },
    {
      "cell_type": "markdown",
      "source": [
        "(16) Rank these 5 teams according to your solution:"
      ],
      "metadata": {}
    },
    {
      "cell_type": "code",
      "source": [
        "# 1. Team C\n",
        "# 2. Team A\n",
        "# 3. Team B\n",
        "# 4. Team D\n",
        "# 5. Team E"
      ],
      "outputs": [],
      "execution_count": 506,
      "metadata": {
        "collapsed": true
      }
    }
  ],
  "metadata": {
    "kernelspec": {
      "display_name": "Python 2",
      "language": "python",
      "name": "python2"
    },
    "language_info": {
      "codemirror_mode": {
        "name": "ipython",
        "version": 2
      },
      "file_extension": ".py",
      "mimetype": "text/x-python",
      "name": "python",
      "nbconvert_exporter": "python",
      "pygments_lexer": "ipython2",
      "version": "2.7.13"
    },
    "nteract": {
      "version": "0.14.3"
    }
  },
  "nbformat": 4,
  "nbformat_minor": 2
}