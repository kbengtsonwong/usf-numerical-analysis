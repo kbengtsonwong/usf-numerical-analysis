{
  "cells": [
    {
      "cell_type": "markdown",
      "source": [
        "# Project 3: Singular Value Decomposition"
      ],
      "metadata": {}
    },
    {
      "cell_type": "markdown",
      "source": [
        "**Your name here:**    <i>Kevin Wong</i>"
      ],
      "metadata": {}
    },
    {
      "cell_type": "markdown",
      "source": [
        "SVD is is fundamental to numerical analysis and linear algebra. We will do a few applications in this project."
      ],
      "metadata": {}
    },
    {
      "cell_type": "code",
      "source": [
        "import numpy as np\n",
        "import matplotlib.pyplot as plt\n",
        "import seaborn as sns\n",
        "sns.set_style(\"darkgrid\")\n",
        "\n",
        "from __future__ import division"
      ],
      "outputs": [],
      "execution_count": 1,
      "metadata": {}
    },
    {
      "cell_type": "markdown",
      "source": [
        "## Line fitting revisit\n",
        "As one application of least square, we can fit many (2D) data points with a line. First execute the following command to load the points into an array (Points). Each row will be a point. You need to download Points.csv into the same folder as this notebook."
      ],
      "metadata": {}
    },
    {
      "cell_type": "code",
      "source": [
        "Points = np.loadtxt('Points.csv', delimiter=',')"
      ],
      "outputs": [],
      "execution_count": 2,
      "metadata": {}
    },
    {
      "cell_type": "code",
      "source": [
        "# Checking out the layout of Points\n",
        "Points[:3]"
      ],
      "outputs": [
        {
          "output_type": "execute_result",
          "execution_count": 3,
          "data": {
            "text/plain": [
              "array([[-0.69132129,  0.29665323],\n",
              "       [ 0.24725294,  1.51375785],\n",
              "       [-0.84832974, -0.22039904]])"
            ]
          },
          "metadata": {}
        }
      ],
      "execution_count": 3,
      "metadata": {}
    },
    {
      "cell_type": "markdown",
      "source": [
        "(1) Use least square to find the line y = a+bx that best fits these points. You can use the np.linalg.solve function directly. Print a,b."
      ],
      "metadata": {}
    },
    {
      "cell_type": "code",
      "source": [
        "# Let y be the y values, the 2nd column of Points\n",
        "y = Points[:,1]\n",
        "y.reshape(30,1)\n",
        "y"
      ],
      "outputs": [
        {
          "output_type": "execute_result",
          "execution_count": 4,
          "data": {
            "text/plain": [
              "array([ 0.29665323,  1.51375785, -0.22039904, -1.00878   , -0.72179644,\n",
              "       -2.48777174,  1.01334037, -1.24104948,  0.19352298,  0.48827817,\n",
              "        2.14817834,  2.72149037,  4.33915484,  1.87676206,  4.03318606,\n",
              "       -1.41616271,  0.93733887,  1.28295877, -2.40910122, -0.02531464,\n",
              "        2.77728098,  3.87451871,  4.12356514,  2.35230313,  1.39159477,\n",
              "        2.99836079,  5.55090337,  2.9295252 ,  0.87788917, -0.53841695])"
            ]
          },
          "metadata": {}
        }
      ],
      "execution_count": 4,
      "metadata": {}
    },
    {
      "cell_type": "code",
      "source": [
        "# Create the template for the A matrix\n",
        "A = np.zeros((len(Points),2))\n",
        "A.shape"
      ],
      "outputs": [
        {
          "output_type": "execute_result",
          "execution_count": 5,
          "data": {
            "text/plain": [
              "(30, 2)"
            ]
          },
          "metadata": {}
        }
      ],
      "execution_count": 5,
      "metadata": {}
    },
    {
      "cell_type": "code",
      "source": [
        "# Let the 1st column of A be 1's\n",
        "# Let the 2nd column be the x values, the 1st column of Points\n",
        "A[:,0] = 1\n",
        "A[:,1] = Points[:,0]\n",
        "A"
      ],
      "outputs": [
        {
          "output_type": "execute_result",
          "execution_count": 6,
          "data": {
            "text/plain": [
              "array([[ 1.        , -0.69132129],\n",
              "       [ 1.        ,  0.24725294],\n",
              "       [ 1.        , -0.84832974],\n",
              "       [ 1.        , -1.40854003],\n",
              "       [ 1.        , -0.89761124],\n",
              "       [ 1.        , -1.93832501],\n",
              "       [ 1.        , -0.4885006 ],\n",
              "       [ 1.        , -1.30497387],\n",
              "       [ 1.        , -0.77573798],\n",
              "       [ 1.        , -0.54010447],\n",
              "       [ 1.        ,  0.19359299],\n",
              "       [ 1.        ,  0.41888141],\n",
              "       [ 1.        ,  1.43535961],\n",
              "       [ 1.        , -0.00571755],\n",
              "       [ 1.        ,  1.41326354],\n",
              "       [ 1.        , -1.43041797],\n",
              "       [ 1.        , -0.10016511],\n",
              "       [ 1.        , -0.20076598],\n",
              "       [ 1.        , -1.81623243],\n",
              "       [ 1.        , -0.90222515],\n",
              "       [ 1.        ,  0.40863261],\n",
              "       [ 1.        ,  1.34796045],\n",
              "       [ 1.        ,  1.39198569],\n",
              "       [ 1.        ,  0.56561271],\n",
              "       [ 1.        ,  0.15775959],\n",
              "       [ 1.        ,  0.89377415],\n",
              "       [ 1.        ,  2.22428097],\n",
              "       [ 1.        ,  0.53999201],\n",
              "       [ 1.        , -0.46487306],\n",
              "       [ 1.        , -0.90586281]])"
            ]
          },
          "metadata": {}
        }
      ],
      "execution_count": 6,
      "metadata": {}
    },
    {
      "cell_type": "code",
      "source": [
        "# Solve for the least squared coefficients a (x_0) and b (x_1)\n",
        "coefficients = np.linalg.solve(np.dot(A.T,A),np.dot(A.T,y))\n",
        "coefficients"
      ],
      "outputs": [
        {
          "output_type": "execute_result",
          "execution_count": 7,
          "data": {
            "text/plain": [
              "array([ 1.48025058,  1.94055053])"
            ]
          },
          "metadata": {}
        }
      ],
      "execution_count": 7,
      "metadata": {}
    },
    {
      "cell_type": "code",
      "source": [
        "# Defining a function to output y values given an x value using the regression line\n",
        "def least_square(x):\n",
        "    return coefficients[0] + coefficients[1]*x"
      ],
      "outputs": [],
      "execution_count": 8,
      "metadata": {
        "collapsed": true
      }
    },
    {
      "cell_type": "markdown",
      "source": [
        "(2) Plot the line and these points in the same plot below."
      ],
      "metadata": {}
    },
    {
      "cell_type": "code",
      "source": [
        "x = np.linspace(-3,3, 100)\n",
        "\n",
        "plt.scatter(Points[:,0], Points[:,1], color = \"magenta\")\n",
        "plt.plot(x, least_square(x), linestyle=\"--\")\n",
        "plt.title(\"Fitting a Least Square Regression Line\")\n",
        "plt.show()"
      ],
      "outputs": [
        {
          "output_type": "display_data",
          "data": {
            "image/png": "[encoded data removed]",
            "text/plain": [
              "<matplotlib.figure.Figure at 0x10f055390>"
            ]
          },
          "metadata": {}
        }
      ],
      "execution_count": 9,
      "metadata": {}
    },
    {
      "cell_type": "markdown",
      "source": [
        "SVD can also do line fitting as well,  using rank-1 approximation since a line is a one-dimensional object. We first have to shift the points so that its centroid is the origin. This is because the rank-1 approximation that we get from SVD is always a subspace (meaning it will go through origin)."
      ],
      "metadata": {}
    },
    {
      "cell_type": "markdown",
      "source": [
        "(3) Compute the center of these 30 points, and subtract this center from each row of Points. Call this new array CP. Section 5.2 of the notes could be helpful."
      ],
      "metadata": {}
    },
    {
      "cell_type": "code",
      "source": [
        "x_mean = np.mean(Points[:,0])\n",
        "x_mean"
      ],
      "outputs": [
        {
          "output_type": "execute_result",
          "execution_count": 10,
          "data": {
            "text/plain": [
              "-0.11604518785683367"
            ]
          },
          "metadata": {}
        }
      ],
      "execution_count": 10,
      "metadata": {}
    },
    {
      "cell_type": "code",
      "source": [
        "y_mean = np.mean(Points[:,1])\n",
        "y_mean"
      ],
      "outputs": [
        {
          "output_type": "execute_result",
          "execution_count": 11,
          "data": {
            "text/plain": [
              "1.2550590322282611"
            ]
          },
          "metadata": {}
        }
      ],
      "execution_count": 11,
      "metadata": {}
    },
    {
      "cell_type": "code",
      "source": [
        "# Subtracting the mean of each column to center the data on the origin\n",
        "CP = Points.copy()\n",
        "CP[:,0] = CP[:,0] - x_mean\n",
        "CP[:,1] = CP[:,1] - y_mean\n",
        "CP"
      ],
      "outputs": [
        {
          "output_type": "execute_result",
          "execution_count": 12,
          "data": {
            "text/plain": [
              "array([[-0.5752761 , -0.9584058 ],\n",
              "       [ 0.36329812,  0.25869882],\n",
              "       [-0.73228455, -1.47545807],\n",
              "       [-1.29249485, -2.26383903],\n",
              "       [-0.78156605, -1.97685547],\n",
              "       [-1.82227982, -3.74283077],\n",
              "       [-0.37245541, -0.24171866],\n",
              "       [-1.18892868, -2.49610851],\n",
              "       [-0.65969279, -1.06153605],\n",
              "       [-0.42405929, -0.76678086],\n",
              "       [ 0.30963818,  0.89311931],\n",
              "       [ 0.5349266 ,  1.46643133],\n",
              "       [ 1.5514048 ,  3.08409581],\n",
              "       [ 0.11032764,  0.62170303],\n",
              "       [ 1.52930873,  2.77812703],\n",
              "       [-1.31437278, -2.67122174],\n",
              "       [ 0.01588008, -0.31772016],\n",
              "       [-0.0847208 ,  0.02789974],\n",
              "       [-1.70018724, -3.66416026],\n",
              "       [-0.78617996, -1.28037367],\n",
              "       [ 0.52467779,  1.52222195],\n",
              "       [ 1.46400564,  2.61945968],\n",
              "       [ 1.50803088,  2.86850611],\n",
              "       [ 0.68165789,  1.0972441 ],\n",
              "       [ 0.27380478,  0.13653574],\n",
              "       [ 1.00981933,  1.74330175],\n",
              "       [ 2.34032616,  4.29584434],\n",
              "       [ 0.6560372 ,  1.67446616],\n",
              "       [-0.34882788, -0.37716986],\n",
              "       [-0.78981763, -1.79347599]])"
            ]
          },
          "metadata": {}
        }
      ],
      "execution_count": 12,
      "metadata": {}
    },
    {
      "cell_type": "code",
      "source": [
        "# Data seems appropriately centered on the origin\n",
        "plt.scatter(CP[:,0],CP[:,1])\n",
        "plt.show()"
      ],
      "outputs": [
        {
          "output_type": "display_data",
          "data": {
            "image/png": "[encoded data removed]",
            "text/plain": [
              "<matplotlib.figure.Figure at 0x10f03bed0>"
            ]
          },
          "metadata": {}
        }
      ],
      "execution_count": 13,
      "metadata": {}
    },
    {
      "cell_type": "markdown",
      "source": [
        "(4) Find the rank-1 approximation of CP (using np.linalg.svd, better read the documentation of np.linalg.svd first to figure out the outputs.), call it CP1.  Print CP1."
      ],
      "metadata": {}
    },
    {
      "cell_type": "code",
      "source": [
        "U, S, V = np.linalg.svd(CP, full_matrices=False)"
      ],
      "outputs": [],
      "execution_count": 14,
      "metadata": {}
    },
    {
      "cell_type": "code",
      "source": [
        "S"
      ],
      "outputs": [
        {
          "output_type": "execute_result",
          "execution_count": 15,
          "data": {
            "text/plain": [
              "array([ 12.44471492,   0.73941723])"
            ]
          },
          "metadata": {}
        }
      ],
      "execution_count": 15,
      "metadata": {}
    },
    {
      "cell_type": "code",
      "source": [
        "# Rank 1 version of S\n",
        "S_rank1 = S\n",
        "S_rank1[1] = 0\n",
        "S_rank1"
      ],
      "outputs": [
        {
          "output_type": "execute_result",
          "execution_count": 16,
          "data": {
            "text/plain": [
              "array([ 12.44471492,   0.        ])"
            ]
          },
          "metadata": {}
        }
      ],
      "execution_count": 16,
      "metadata": {}
    },
    {
      "cell_type": "code",
      "source": [
        "# Constructing the true rank 1 diagonal matrix Sigma\n",
        "S_rank1_diag = np.diag(S_rank1)\n",
        "S_rank1_diag"
      ],
      "outputs": [
        {
          "output_type": "execute_result",
          "execution_count": 17,
          "data": {
            "text/plain": [
              "array([[ 12.44471492,   0.        ],\n",
              "       [  0.        ,   0.        ]])"
            ]
          },
          "metadata": {}
        }
      ],
      "execution_count": 17,
      "metadata": {}
    },
    {
      "cell_type": "code",
      "source": [
        "# Reconstructing CP with a rank 1 approximation\n",
        "CP1 = np.dot(U, np.dot(S_rank1_diag, V))\n",
        "CP1"
      ],
      "outputs": [
        {
          "output_type": "execute_result",
          "execution_count": 18,
          "data": {
            "text/plain": [
              "array([[-0.50379919, -0.99461092],\n",
              "       [ 0.1784621 ,  0.35232361],\n",
              "       [-0.74428356, -1.46938022],\n",
              "       [-1.17646888, -2.32260953],\n",
              "       [-0.9564613 , -1.88826597],\n",
              "       [-1.88082975, -3.71317354],\n",
              "       [-0.1734871 , -0.34250187],\n",
              "       [-1.24895109, -2.46570543],\n",
              "       [-0.56260792, -1.11071235],\n",
              "       [-0.3956784 , -0.7811566 ],\n",
              "       [ 0.42324299,  0.83557519],\n",
              "       [ 0.70034756,  1.38264084],\n",
              "       [ 1.55998282,  3.07975079],\n",
              "       [ 0.27313804,  0.53923485],\n",
              "       [ 1.43213394,  2.82734887],\n",
              "       [-1.34515357, -2.65563038],\n",
              "       [-0.12483179, -0.24644553],\n",
              "       [-0.00605212, -0.01194822],\n",
              "       [-1.82418803, -3.60135027],\n",
              "       [-0.67664885, -1.33585435],\n",
              "       [ 0.72074433,  1.42290858],\n",
              "       [ 1.35484068,  2.67475489],\n",
              "       [ 1.46422151,  2.89069682],\n",
              "       [ 0.58148689,  1.14798361],\n",
              "       [ 0.11094459,  0.21902913],\n",
              "       [ 0.90892051,  1.79440993],\n",
              "       [ 2.20952835,  4.36209721],\n",
              "       [ 0.80893603,  1.59701848],\n",
              "       [-0.22326365, -0.44077177],\n",
              "       [-0.88422515, -1.74565584]])"
            ]
          },
          "metadata": {}
        }
      ],
      "execution_count": 18,
      "metadata": {}
    },
    {
      "cell_type": "markdown",
      "source": [
        "(5) CP1 has rank-1 and approximates CP. This means all rows of CP **approximately** lie on the line spanned by rows of CP1. If we shift this line back to the centroid of CP, that is the best fitting line obtained from SVD.\n",
        "\n",
        "Below print out the slope of this line, then plot this new line (in blue), the LS best fitting line (in black), and all 30 points (in read) simultineously. These two lines almost overlapp, but are different."
      ],
      "metadata": {}
    },
    {
      "cell_type": "code",
      "source": [
        "CP1_corrected = CP1\n",
        "CP1_corrected[:,0] = CP1_corrected[:,0] + x_mean\n",
        "CP1_corrected[:,1] = CP1_corrected[:,1] + y_mean\n",
        "CP1_corrected[:3]"
      ],
      "outputs": [
        {
          "output_type": "execute_result",
          "execution_count": 19,
          "data": {
            "text/plain": [
              "array([[-0.61984438,  0.26044811],\n",
              "       [ 0.06241691,  1.60738264],\n",
              "       [-0.86032875, -0.21432119]])"
            ]
          },
          "metadata": {}
        }
      ],
      "execution_count": 19,
      "metadata": {}
    },
    {
      "cell_type": "code",
      "source": [
        "# Calculating Slope\n",
        "slope = (CP1_corrected[1,1] - CP1_corrected[0,1]) / (CP1_corrected[1,0] - CP1_corrected[0,0])\n",
        "slope"
      ],
      "outputs": [
        {
          "output_type": "execute_result",
          "execution_count": 20,
          "data": {
            "text/plain": [
              "1.9742209725430171"
            ]
          },
          "metadata": {}
        }
      ],
      "execution_count": 20,
      "metadata": {}
    },
    {
      "cell_type": "code",
      "source": [
        "plt.scatter(Points[:,0], Points[:,1], color = \"red\")\n",
        "plt.plot(x, least_square(x), color = \"black\", lw = 3)\n",
        "plt.plot(CP1_corrected[:,0], CP1_corrected[:,1], color = \"blue\")\n",
        "plt.title(\"SVD Approximation (blue) vs. Regression (black)\")\n",
        "plt.show()"
      ],
      "outputs": [
        {
          "output_type": "display_data",
          "data": {
            "image/png": "[encoded data removed]",
            "text/plain": [
              "<matplotlib.figure.Figure at 0x10464ce10>"
            ]
          },
          "metadata": {}
        }
      ],
      "execution_count": 21,
      "metadata": {}
    },
    {
      "cell_type": "markdown",
      "source": [
        "## Data compression. Follow Section 5.2 of notes.\n",
        "\n",
        "This can be used in machine learning. Suppose that the m × d matrix, stores a set of training data with each training vector taking up one row as in (5) and that d, the dimension of each vector, is very large.\n",
        "\n",
        "We want to feed data to a clustering algorithm that outputs a fixed number of cluster centers. Because d is large, however, the algorithm takes too long or is unstable, so we want to reduce the number of variables using SVD."
      ],
      "metadata": {}
    },
    {
      "cell_type": "markdown",
      "source": [
        "(6) Data.csv stores certain information of 1000 people. Each row is a person. First load this to a numpy array, call it Data"
      ],
      "metadata": {}
    },
    {
      "cell_type": "code",
      "source": [
        "Data = np.loadtxt('Data.csv', delimiter=',')"
      ],
      "outputs": [],
      "execution_count": 22,
      "metadata": {}
    },
    {
      "cell_type": "code",
      "source": [
        "Data.shape"
      ],
      "outputs": [
        {
          "output_type": "execute_result",
          "execution_count": 23,
          "data": {
            "text/plain": [
              "(1000, 50)"
            ]
          },
          "metadata": {}
        }
      ],
      "execution_count": 23,
      "metadata": {}
    },
    {
      "cell_type": "code",
      "source": [
        "Data[:2]"
      ],
      "outputs": [
        {
          "output_type": "execute_result",
          "execution_count": 24,
          "data": {
            "text/plain": [
              "array([[ 17.3241816 ,  16.23212003,  -8.9312805 ,  18.00792491,\n",
              "         10.43039008,  11.22893626,   8.63427885,  -1.97624742,\n",
              "          5.08101872,  11.19727172, -10.59405535,  19.41724094,\n",
              "         20.99057358,  23.58187695,   4.35431818,  29.07055537,\n",
              "         13.61160546,   7.89031917, -11.12786195,   2.49774348,\n",
              "          9.71247221,   4.68626824,   2.88153319,  14.26041399,\n",
              "         -0.85409691,   4.22766731,  12.02448608,  17.36195307,\n",
              "         10.03861149,  16.51132435,  12.69269229,   2.34676899,\n",
              "         11.33534159,  14.51134539,  -4.59691885,  23.28604731,\n",
              "         26.64288732,   7.52637087,  15.4524931 ,  15.00411118,\n",
              "         27.93735859,  21.55571026,   5.67363089,  35.19319894,\n",
              "         -1.22794433,  23.44559525,  -4.68146328,   4.07923186,\n",
              "          8.46878036,  -8.30600566],\n",
              "       [ 13.89699576,   7.54422916,   1.55660721,  18.09519279,\n",
              "         15.42697701,   5.61861897,  -4.08078901,   1.97562859,\n",
              "          2.12505678,   8.27530745,   4.46614872,  13.80734028,\n",
              "         22.03308647,  10.41052338,  12.86090856,  25.71511414,\n",
              "          7.51933456,   6.5447508 ,   0.62729312,   8.27713096,\n",
              "          6.5099164 ,  13.21622887,   3.48444408,  12.03546668,\n",
              "          5.0820517 ,   2.72326855,  12.08074674,  12.43940599,\n",
              "          0.19117734,  14.23539686,  20.6414309 ,   9.67123657,\n",
              "         14.66445868,  13.37288417,  12.75739981,  16.26572528,\n",
              "         19.61587816,  11.50581048,  11.54385467,  10.10544123,\n",
              "          9.38558713,  15.1322506 ,  12.56005835,  23.81425675,\n",
              "          1.92766202,  16.14977998,   2.30629361,   6.95812353,\n",
              "          7.62183352,   9.1315864 ]])"
            ]
          },
          "metadata": {}
        }
      ],
      "execution_count": 24,
      "metadata": {}
    },
    {
      "cell_type": "markdown",
      "source": [
        "(7) Center the data the generate the matrix E. Hint: It is not necessary to use a loop to generate E. Try np.outer(np.ones([1,10]), np.array([1,2])) to get some inspiration."
      ],
      "metadata": {}
    },
    {
      "cell_type": "code",
      "source": [
        "# Calculating the center of each column\n",
        "c = Data.mean(axis = 0)\n",
        "c"
      ],
      "outputs": [
        {
          "output_type": "execute_result",
          "execution_count": 25,
          "data": {
            "text/plain": [
              "array([ 16.30544828,  10.93456246,  -3.23922907,  19.7351458 ,\n",
              "        13.47567085,   6.52877982,  -1.46408266,  -1.06897406,\n",
              "         2.87756382,   8.71835707,  -2.31409359,  15.86602775,\n",
              "        22.97888723,  14.62872368,  10.66087091,  29.34005919,\n",
              "         8.80538653,   5.92372371,  -4.47062178,   5.87048151,\n",
              "         8.71444597,  11.0995025 ,   1.78336674,  11.50990526,\n",
              "         4.56220057,   0.4508941 ,  11.50549966,  14.85609941,\n",
              "         2.30370867,  15.07625728,  18.33469912,   7.42280479,\n",
              "        14.04424366,  14.50538523,   4.99058343,  19.98720508,\n",
              "        23.79324964,   9.73680936,  11.50987536,  11.96319474,\n",
              "        15.24847482,  17.42768014,  10.05507714,  29.64972548,\n",
              "        -1.1616505 ,  20.92551142,  -1.90526644,   5.98855262,\n",
              "         6.84638577,   3.03314992])"
            ]
          },
          "metadata": {}
        }
      ],
      "execution_count": 25,
      "metadata": {}
    },
    {
      "cell_type": "code",
      "source": [
        "# Creating a matrix of the center / means of the appropriate shape\n",
        "M = np.outer(np.ones([1,1000]), c)\n",
        "M"
      ],
      "outputs": [
        {
          "output_type": "execute_result",
          "execution_count": 26,
          "data": {
            "text/plain": [
              "array([[ 16.30544828,  10.93456246,  -3.23922907, ...,   5.98855262,\n",
              "          6.84638577,   3.03314992],\n",
              "       [ 16.30544828,  10.93456246,  -3.23922907, ...,   5.98855262,\n",
              "          6.84638577,   3.03314992],\n",
              "       [ 16.30544828,  10.93456246,  -3.23922907, ...,   5.98855262,\n",
              "          6.84638577,   3.03314992],\n",
              "       ..., \n",
              "       [ 16.30544828,  10.93456246,  -3.23922907, ...,   5.98855262,\n",
              "          6.84638577,   3.03314992],\n",
              "       [ 16.30544828,  10.93456246,  -3.23922907, ...,   5.98855262,\n",
              "          6.84638577,   3.03314992],\n",
              "       [ 16.30544828,  10.93456246,  -3.23922907, ...,   5.98855262,\n",
              "          6.84638577,   3.03314992]])"
            ]
          },
          "metadata": {}
        }
      ],
      "execution_count": 26,
      "metadata": {}
    },
    {
      "cell_type": "code",
      "source": [
        "# Centering the data to generate matrix E\n",
        "E = Data - M\n",
        "E"
      ],
      "outputs": [
        {
          "output_type": "execute_result",
          "execution_count": 27,
          "data": {
            "text/plain": [
              "array([[  1.01873332,   5.29755757,  -5.69205143, ...,  -1.90932076,\n",
              "          1.62239459, -11.33915558],\n",
              "       [ -2.40845252,  -3.39033329,   4.79583627, ...,   0.96957091,\n",
              "          0.77544775,   6.09843647],\n",
              "       [ -5.42480681,  -3.4916302 ,   6.89367136, ...,  -0.30587181,\n",
              "          2.75196084,   3.58858202],\n",
              "       ..., \n",
              "       [  4.96280409,   0.94788174,  -8.80471588, ...,  -1.41600833,\n",
              "         -2.72411537,  -3.64210156],\n",
              "       [ -0.03467239,  -2.8248215 ,   4.02618577, ...,   2.35779083,\n",
              "         -1.01804227,   8.33357828],\n",
              "       [  5.79924163,   5.81614747,   2.27391182, ...,   5.63732713,\n",
              "         -4.63808991,   4.72978324]])"
            ]
          },
          "metadata": {}
        }
      ],
      "execution_count": 27,
      "metadata": {}
    },
    {
      "cell_type": "markdown",
      "source": [
        "(8) Compute SVD of E. Print out the singular values. You will observe that only the first few are significant. Let r be the the number of these significant singular values. What is r?"
      ],
      "metadata": {}
    },
    {
      "cell_type": "code",
      "source": [
        "# SVD decomposition of matrix E\n",
        "U, S, V = np.linalg.svd(E) "
      ],
      "outputs": [],
      "execution_count": 28,
      "metadata": {}
    },
    {
      "cell_type": "code",
      "source": [
        "# Singular values of E.  Only the first 4 are significant, so r = 4.\n",
        "S"
      ],
      "outputs": [
        {
          "output_type": "execute_result",
          "execution_count": 29,
          "data": {
            "text/plain": [
              "array([  7.67491328e+02,   5.73705165e+02,   5.11702580e+02,\n",
              "         4.70437615e+02,   3.83184381e-01,   3.75234119e-01,\n",
              "         3.68941997e-01,   3.63145285e-01,   3.60251959e-01,\n",
              "         3.58119529e-01,   3.57013327e-01,   3.53086884e-01,\n",
              "         3.51345030e-01,   3.45434792e-01,   3.42460140e-01,\n",
              "         3.41999626e-01,   3.38496625e-01,   3.37525363e-01,\n",
              "         3.31782006e-01,   3.29942119e-01,   3.26117313e-01,\n",
              "         3.24041857e-01,   3.22787831e-01,   3.19548326e-01,\n",
              "         3.18180394e-01,   3.15315933e-01,   3.14796978e-01,\n",
              "         3.09734782e-01,   3.08147675e-01,   3.07667687e-01,\n",
              "         3.05695878e-01,   3.02885250e-01,   3.01130429e-01,\n",
              "         2.98041915e-01,   2.93918459e-01,   2.91528644e-01,\n",
              "         2.90432678e-01,   2.87808318e-01,   2.85953000e-01,\n",
              "         2.82227529e-01,   2.79426344e-01,   2.78262531e-01,\n",
              "         2.74037220e-01,   2.71102309e-01,   2.69294247e-01,\n",
              "         2.68022194e-01,   2.62441743e-01,   2.56250798e-01,\n",
              "         2.54161299e-01,   2.48959724e-01])"
            ]
          },
          "metadata": {}
        }
      ],
      "execution_count": 29,
      "metadata": {}
    },
    {
      "cell_type": "markdown",
      "source": [
        "(9) Generate matrices $Y, \\hat V (\\text{name it HatV})$ and the center $c$."
      ],
      "metadata": {}
    },
    {
      "cell_type": "code",
      "source": [
        "Y = np.dot(E, V[:,:4])"
      ],
      "outputs": [],
      "execution_count": 30,
      "metadata": {}
    },
    {
      "cell_type": "code",
      "source": [
        "HatV = V[:,:4]"
      ],
      "outputs": [],
      "execution_count": 31,
      "metadata": {}
    },
    {
      "cell_type": "code",
      "source": [
        "c"
      ],
      "outputs": [
        {
          "output_type": "execute_result",
          "execution_count": 32,
          "data": {
            "text/plain": [
              "array([ 16.30544828,  10.93456246,  -3.23922907,  19.7351458 ,\n",
              "        13.47567085,   6.52877982,  -1.46408266,  -1.06897406,\n",
              "         2.87756382,   8.71835707,  -2.31409359,  15.86602775,\n",
              "        22.97888723,  14.62872368,  10.66087091,  29.34005919,\n",
              "         8.80538653,   5.92372371,  -4.47062178,   5.87048151,\n",
              "         8.71444597,  11.0995025 ,   1.78336674,  11.50990526,\n",
              "         4.56220057,   0.4508941 ,  11.50549966,  14.85609941,\n",
              "         2.30370867,  15.07625728,  18.33469912,   7.42280479,\n",
              "        14.04424366,  14.50538523,   4.99058343,  19.98720508,\n",
              "        23.79324964,   9.73680936,  11.50987536,  11.96319474,\n",
              "        15.24847482,  17.42768014,  10.05507714,  29.64972548,\n",
              "        -1.1616505 ,  20.92551142,  -1.90526644,   5.98855262,\n",
              "         6.84638577,   3.03314992])"
            ]
          },
          "metadata": {}
        }
      ],
      "execution_count": 32,
      "metadata": {}
    },
    {
      "cell_type": "markdown",
      "source": [
        "(10) If everything goes smoothly, you can use the following command to Store $Y, \\hat V, c$ to \"compressedData.csv\". This file should be uploaded to github. "
      ],
      "metadata": {}
    },
    {
      "cell_type": "code",
      "source": [
        "# Saving the above variables to a local file\n",
        "np.savetxt('compressedData.csv', Y, delimiter=',')\n",
        "f_handle = file('compressedData.csv', 'a')\n",
        "np.savetxt(f_handle, HatV, delimiter=',')\n",
        "np.savetxt(f_handle, c, delimiter=',')\n",
        "f_handle.close()"
      ],
      "outputs": [],
      "execution_count": 33,
      "metadata": {}
    },
    {
      "cell_type": "markdown",
      "source": [
        "(11) You can see that this file size is smaller than \"Data.csv\". What is the compression rate?"
      ],
      "metadata": {}
    },
    {
      "cell_type": "code",
      "source": [
        "# It is 108 KB compared to the original 1.3 MB\n",
        "# It compressed the original file to be just over 12 times smaller"
      ],
      "outputs": [],
      "execution_count": 34,
      "metadata": {
        "collapsed": true
      }
    },
    {
      "cell_type": "markdown",
      "source": [
        "(12) Use $Y, \\hat V, c$ to get the approximate Data matrix. Call the approximate Dapprox. Print the first row of Data and Dapprox to compare."
      ],
      "metadata": {}
    },
    {
      "cell_type": "code",
      "source": [
        "# Reconstructing an approximation of the original matrix\n",
        "Dapprox = np.dot(Y, HatV.T) + c"
      ],
      "outputs": [],
      "execution_count": 35,
      "metadata": {}
    },
    {
      "cell_type": "code",
      "source": [
        "Dapprox[:1]"
      ],
      "outputs": [
        {
          "output_type": "execute_result",
          "execution_count": 36,
          "data": {
            "text/plain": [
              "array([[ 16.01349082,  10.7437947 ,  -2.54779224,  19.96126213,\n",
              "         13.57898735,   5.61337346,  -1.62137653,  -1.32719838,\n",
              "          2.72205923,   9.32897165,  -2.3035108 ,  16.30413406,\n",
              "         23.04327481,  14.43065766,  10.81833979,  29.14248022,\n",
              "          8.75323555,   6.26147806,  -4.65741956,   5.23586535,\n",
              "          8.6006239 ,  11.03487428,   1.99679738,  11.19327832,\n",
              "          4.39405323,   0.4781476 ,  11.54979174,  14.28476447,\n",
              "          2.75005384,  15.79904993,  18.30655066,   8.02423003,\n",
              "         14.66308965,  14.37714962,   4.70486798,  19.88597411,\n",
              "         24.65489035,   9.63938531,  11.58909938,  11.88873983,\n",
              "         15.64676179,  17.3793649 ,   9.77769764,  30.0820771 ,\n",
              "         -1.24455643,  21.63229585,  -1.74455931,   5.79888019,\n",
              "          7.21313079,   3.05736511]])"
            ]
          },
          "metadata": {}
        }
      ],
      "execution_count": 36,
      "metadata": {}
    },
    {
      "cell_type": "code",
      "source": [
        "# While there is some error, the rank 4 approximation of 50 original singular values is impressive\n",
        "Data[:1]"
      ],
      "outputs": [
        {
          "output_type": "execute_result",
          "execution_count": 37,
          "data": {
            "text/plain": [
              "array([[ 17.3241816 ,  16.23212003,  -8.9312805 ,  18.00792491,\n",
              "         10.43039008,  11.22893626,   8.63427885,  -1.97624742,\n",
              "          5.08101872,  11.19727172, -10.59405535,  19.41724094,\n",
              "         20.99057358,  23.58187695,   4.35431818,  29.07055537,\n",
              "         13.61160546,   7.89031917, -11.12786195,   2.49774348,\n",
              "          9.71247221,   4.68626824,   2.88153319,  14.26041399,\n",
              "         -0.85409691,   4.22766731,  12.02448608,  17.36195307,\n",
              "         10.03861149,  16.51132435,  12.69269229,   2.34676899,\n",
              "         11.33534159,  14.51134539,  -4.59691885,  23.28604731,\n",
              "         26.64288732,   7.52637087,  15.4524931 ,  15.00411118,\n",
              "         27.93735859,  21.55571026,   5.67363089,  35.19319894,\n",
              "         -1.22794433,  23.44559525,  -4.68146328,   4.07923186,\n",
              "          8.46878036,  -8.30600566]])"
            ]
          },
          "metadata": {}
        }
      ],
      "execution_count": 37,
      "metadata": {}
    },
    {
      "cell_type": "markdown",
      "source": [
        "**Finally, we probably will do more projects on SVD using this one.**"
      ],
      "metadata": {}
    },
    {
      "cell_type": "markdown",
      "source": [
        "## Bonus question: Find the maximum value of a function on an interval [a,b] using python. \n",
        "\n",
        "You can use $f(x)=\\frac{1}{1+X^2}$ on [-0.5,1] as an example"
      ],
      "metadata": {}
    },
    {
      "cell_type": "code",
      "source": [
        "def example_function(x):\n",
        "    return 1 / (1+x**2)"
      ],
      "outputs": [],
      "execution_count": 38,
      "metadata": {
        "collapsed": true
      }
    },
    {
      "cell_type": "code",
      "source": [
        "def find_max(f, a, b):\n",
        "    \n",
        "    # The parameters to be tracked and returned\n",
        "    max_value_y = f(a)\n",
        "    max_value_x = a\n",
        "    \n",
        "    # Breaking down a continuous function into discrete values to test between a and b\n",
        "    x_candidates = np.linspace(a, b, 1000)\n",
        "    \n",
        "    # Testing each of the 1000 candidate\n",
        "    y_values = []\n",
        "    for x in x_candidates:\n",
        "        y = f(x)\n",
        "        y_values.append(y)\n",
        "        if(y > max_value_y):\n",
        "            max_value_y = y\n",
        "            max_value_x = x\n",
        "    \n",
        "    # Visualizing the function and maximum as determined above\n",
        "    plt.scatter(x_candidates, y_values, s=3, color=\"darkslategrey\" )\n",
        "    plt.scatter(max_value_x, max_value_y, s=100, color=\"crimson\", marker = \"o\")\n",
        "    plt.title(\"Maximum Value of f(x)\")\n",
        "    plt.show()\n",
        "    \n",
        "    # String output\n",
        "    return \"The maximum value of this function is y = \" + str(max_value_y) + \" found at x = \" + str(max_value_x)"
      ],
      "outputs": [],
      "execution_count": 39,
      "metadata": {}
    },
    {
      "cell_type": "code",
      "source": [
        "find_max(example_function, -0.5, 1)"
      ],
      "outputs": [
        {
          "output_type": "display_data",
          "data": {
            "image/png": "[encoded data removed]",
            "text/plain": [
              "<matplotlib.figure.Figure at 0x10efaffd0>"
            ]
          },
          "metadata": {}
        },
        {
          "output_type": "execute_result",
          "execution_count": 40,
          "data": {
            "text/plain": [
              "'The maximum value of this function is y = 1.0 found at x = 0.0'"
            ]
          },
          "metadata": {}
        }
      ],
      "execution_count": 40,
      "metadata": {}
    }
  ],
  "metadata": {
    "kernelspec": {
      "display_name": "Python 2",
      "language": "python",
      "name": "python2"
    },
    "language_info": {
      "codemirror_mode": {
        "name": "ipython",
        "version": 2
      },
      "file_extension": ".py",
      "mimetype": "text/x-python",
      "name": "python",
      "nbconvert_exporter": "python",
      "pygments_lexer": "ipython2",
      "version": "2.7.13"
    },
    "nteract": {
      "version": "0.14.3"
    }
  },
  "nbformat": 4,
  "nbformat_minor": 2
}