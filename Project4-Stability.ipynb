{
  "cells": [
    {
      "cell_type": "markdown",
      "source": [
        "# Project 4: Stability of three algorithms for solving Least Squares"
      ],
      "metadata": {}
    },
    {
      "cell_type": "markdown",
      "source": [
        "In this project, we will see how stable three different algorithms for solving the same least square problem are, with respect to round off error. The theory to explain why some are more stable than another is quite involved and probably takes half of a semester to go through. If you are interested, the details are in the recommended text \"Numerical Linear Algebra\" by Trefethen and Bau. "
      ],
      "metadata": {}
    },
    {
      "cell_type": "markdown",
      "source": [
        "**Your name here:**    <i>Kevin Wong</i>"
      ],
      "metadata": {}
    },
    {
      "cell_type": "markdown",
      "source": [
        "## Setting up a Least Squares problem"
      ],
      "metadata": {}
    },
    {
      "cell_type": "code",
      "source": [
        "import numpy as np\n",
        "\n",
        "m = 100\n",
        "n = 15\n",
        "t = np.arange(0,1+1.0/(m-1),1.0/(m-1)) # Set t to a discretization of [0,1]. len(t)=m\n",
        "A = np.array([t**i for i in range(n)]).T # Construct a submatrix of a Vandermonde matrix\n",
        "#size of A is m by n\n",
        "\n",
        "#truex is the real least square solution\n",
        "truex = np.array([-0.76913135,  0.46167844,  0.10294497, -0.55750683,  1.37792289,  1.1454379,\n",
        "   0.52179532, -2.59420408,  0.0355606,   1.67058624,  0.1212572,  -1.14884385,\n",
        "  -0.78537181, -1.18751783, 1])\n",
        "\n",
        "#Construct the right-hand side vector b so that least square solution of Ax=b is truex\n",
        "U,S,V = np.linalg.svd(A)\n",
        "AC = U[:,15:]\n",
        "b = A.dot(truex).reshape(100,1) + np.dot(AC, np.ones([85,1]))"
      ],
      "outputs": [],
      "execution_count": null,
      "metadata": {
        "collapsed": true
      }
    },
    {
      "cell_type": "code",
      "source": [
        "# b is constructed from the least-square solution vector transformed by matrix A, \n",
        "# shifted by the combined values of the left null-space of A (the null-space of A transpose).  \n",
        "# My theory is that this shift ensures that A.T x A is invertible and has a unique solution,\n",
        "# for every vector it acts upon, which is necessary in finding the least-square solution.  "
      ],
      "outputs": [],
      "execution_count": 2,
      "metadata": {}
    },
    {
      "cell_type": "markdown",
      "source": [
        "### Below you will need to use three different algorithms that we talked about for solving LS. Use functions like solve, qr, svd... from the linalg package. \n",
        "\n",
        "In order to compare the solution with truex, we will just compare the last entry, which should be 1."
      ],
      "metadata": {}
    },
    {
      "cell_type": "markdown",
      "source": [
        "## 1. Via the normal equation\n",
        "\n",
        "(1) Directly use solve. No need to do cholesky (the solve function is doing that). \n",
        "\n",
        "Call the solution xn. You need to print running time (you can run a couple times to get a stable time), print the last entry difference: abs(xn[14]-1)"
      ],
      "metadata": {}
    },
    {
      "cell_type": "code",
      "source": [
        "import time\n",
        "\n",
        "running_times = []\n",
        "for trial in range(1000):\n",
        "    start = time.time()\n",
        "    xn = np.linalg.solve(np.dot(A.T,A), np.dot(A.T,b))\n",
        "    end = time.time()\n",
        "    running_times.append(end-start)\n",
        "\n",
        "print \"Average running time of 1000 trials: \" + str(np.mean(running_times)) + \" seconds\""
      ],
      "outputs": [
        {
          "output_type": "stream",
          "name": "stdout",
          "text": [
            "Average running time of 1000 trials: 4.56967353821e-05 seconds\n"
          ]
        }
      ],
      "execution_count": 3,
      "metadata": {}
    },
    {
      "cell_type": "code",
      "source": [
        "abs(xn[14]-1)"
      ],
      "outputs": [
        {
          "output_type": "execute_result",
          "execution_count": 4,
          "data": {
            "text/plain": [
              "array([ 1.6600671])"
            ]
          },
          "metadata": {}
        }
      ],
      "execution_count": 4,
      "metadata": {}
    },
    {
      "cell_type": "code",
      "source": [
        "xn - truex.reshape(15,1)"
      ],
      "outputs": [
        {
          "output_type": "execute_result",
          "execution_count": 5,
          "data": {
            "text/plain": [
              "array([[ -1.30417299e-07],\n",
              "       [  3.81524305e-05],\n",
              "       [ -1.86031907e-03],\n",
              "       [  3.65769355e-02],\n",
              "       [ -3.77956086e-01],\n",
              "       [  2.32426530e+00],\n",
              "       [ -9.06958888e+00],\n",
              "       [  2.30675918e+01],\n",
              "       [ -3.78799924e+01],\n",
              "       [  3.71821886e+01],\n",
              "       [ -1.47123808e+01],\n",
              "       [ -1.03860778e+01],\n",
              "       [  1.67838246e+01],\n",
              "       [ -8.62669602e+00],\n",
              "       [  1.66006710e+00]])"
            ]
          },
          "metadata": {}
        }
      ],
      "execution_count": 5,
      "metadata": {}
    },
    {
      "cell_type": "markdown",
      "source": [
        "## 2. Via reduced QR\n",
        "\n",
        "(2) Solve LS via reduced QR. \n",
        "\n",
        "Call the solution xq. You need to print running time, print the last entry difference: abs(xq[14]-1)"
      ],
      "metadata": {}
    },
    {
      "cell_type": "code",
      "source": [
        "running_times = []\n",
        "for trial in range(1000):\n",
        "    start = time.time()\n",
        "    Q, R = np.linalg.qr(A, mode='reduced')\n",
        "    xq = np.linalg.solve(R, Q.T.dot(b))\n",
        "    end = time.time()\n",
        "    running_times.append(end-start)\n",
        "    \n",
        "print \"Average running time of 1000 trials: \" + str(np.mean(running_times)) + \" seconds\""
      ],
      "outputs": [
        {
          "output_type": "stream",
          "name": "stdout",
          "text": [
            "Average running time of 1000 trials: 0.000145689487457 seconds\n"
          ]
        }
      ],
      "execution_count": 6,
      "metadata": {}
    },
    {
      "cell_type": "code",
      "source": [
        "abs(xq[14]-1)"
      ],
      "outputs": [
        {
          "output_type": "execute_result",
          "execution_count": 7,
          "data": {
            "text/plain": [
              "array([  3.87883814e-09])"
            ]
          },
          "metadata": {}
        }
      ],
      "execution_count": 7,
      "metadata": {}
    },
    {
      "cell_type": "code",
      "source": [
        "xq - truex.reshape(15,1)"
      ],
      "outputs": [
        {
          "output_type": "execute_result",
          "execution_count": 8,
          "data": {
            "text/plain": [
              "array([[ -1.99840144e-15],\n",
              "       [  1.57596158e-13],\n",
              "       [ -4.90238405e-12],\n",
              "       [  7.61167795e-11],\n",
              "       [ -7.15220994e-10],\n",
              "       [  4.44755965e-09],\n",
              "       [ -1.91434886e-08],\n",
              "       [  5.84316484e-08],\n",
              "       [ -1.28020919e-07],\n",
              "       [  2.01769530e-07],\n",
              "       [ -2.26686306e-07],\n",
              "       [  1.77117487e-07],\n",
              "       [ -9.14664615e-08],\n",
              "       [  2.80736383e-08],\n",
              "       [ -3.87883814e-09]])"
            ]
          },
          "metadata": {}
        }
      ],
      "execution_count": 8,
      "metadata": {}
    },
    {
      "cell_type": "markdown",
      "source": [
        "## 3. Via reduced SVD\n",
        "\n",
        "(3) Solve LS via reduced SVD. \n",
        "\n",
        "Call the solution xs. You need to print running time, print the last entry difference: abs(xs[14]-1)"
      ],
      "metadata": {
        "collapsed": true
      }
    },
    {
      "cell_type": "code",
      "source": [
        "U,S,V = np.linalg.svd(A, full_matrices=False)\n",
        "print V.shape\n",
        "xs = np.linalg.solve(np.diag(S).dot(V), U.T.dot(b))"
      ],
      "outputs": [
        {
          "output_type": "stream",
          "name": "stdout",
          "text": [
            "(15, 15)\n"
          ]
        }
      ],
      "execution_count": 9,
      "metadata": {}
    },
    {
      "cell_type": "code",
      "source": [
        "running_times = []\n",
        "for trial in range(1000):\n",
        "    start = time.time()\n",
        "    U,S,V = np.linalg.svd(A, full_matrices=False)\n",
        "    V.shape\n",
        "    xs = np.linalg.solve(np.diag(S).dot(V), U.T.dot(b))\n",
        "    end = time.time()\n",
        "    running_times.append(end-start)\n",
        "    \n",
        "print \"Average running time of 1000 trials: \" + str(np.mean(running_times)) + \" seconds\""
      ],
      "outputs": [
        {
          "output_type": "stream",
          "name": "stdout",
          "text": [
            "Average running time of 1000 trials: 0.000181740999222 seconds\n"
          ]
        }
      ],
      "execution_count": 10,
      "metadata": {}
    },
    {
      "cell_type": "code",
      "source": [
        "abs(xs[14]-1)"
      ],
      "outputs": [
        {
          "output_type": "execute_result",
          "execution_count": 11,
          "data": {
            "text/plain": [
              "array([  4.37934133e-10])"
            ]
          },
          "metadata": {}
        }
      ],
      "execution_count": 11,
      "metadata": {}
    },
    {
      "cell_type": "code",
      "source": [
        "xs - truex.reshape(15,1)"
      ],
      "outputs": [
        {
          "output_type": "execute_result",
          "execution_count": 12,
          "data": {
            "text/plain": [
              "array([[ -2.44249065e-15],\n",
              "       [  1.24622535e-13],\n",
              "       [ -3.87309629e-12],\n",
              "       [  6.01325656e-11],\n",
              "       [ -5.46113821e-10],\n",
              "       [  3.17614224e-09],\n",
              "       [ -1.24466701e-08],\n",
              "       [  3.38289721e-08],\n",
              "       [ -6.46778505e-08],\n",
              "       [  8.71238028e-08],\n",
              "       [ -8.16963643e-08],\n",
              "       [  5.17354115e-08],\n",
              "       [ -2.08270639e-08],\n",
              "       [  4.71128625e-09],\n",
              "       [ -4.37934133e-10]])"
            ]
          },
          "metadata": {}
        }
      ],
      "execution_count": 12,
      "metadata": {}
    },
    {
      "cell_type": "markdown",
      "source": [
        "(4) Write a paragraph (in this cell) commenting on stability and running time of each one:\n",
        "\n",
        "Finding the least squared solution of Ax=b is done using three different approaches.  The normal equation has the most error, but is the fastest by an order of magnitude.  Decomposing A into a Q and R matrix and solving QRx = QQ.Tb is a more balanced approach, with dramatic increases in accuracy but slowing the computation down by an order of magnitude (compared to the normal equation).  The last method involves finding the reduced singular value decomposition of A, and solving USV.T = UU.Tb.  This involves more computations than either of the preceeding two methods, and takes between 1 and 2 times as long as QR decomposition, however, the error is smallest and stability is the best with this method.  \n"
      ],
      "metadata": {}
    }
  ],
  "metadata": {
    "kernelspec": {
      "display_name": "Python 2",
      "language": "python",
      "name": "python2"
    },
    "language_info": {
      "codemirror_mode": {
        "name": "ipython",
        "version": 2
      },
      "file_extension": ".py",
      "mimetype": "text/x-python",
      "name": "python",
      "nbconvert_exporter": "python",
      "pygments_lexer": "ipython2",
      "version": "2.7.13"
    },
    "nteract": {
      "version": "0.14.3"
    }
  },
  "nbformat": 4,
  "nbformat_minor": 2
}