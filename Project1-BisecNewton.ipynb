{
  "cells": [
    {
      "cell_type": "markdown",
      "source": [
        "# Project 1: Combine Bisection and Newton Methods"
      ],
      "metadata": {}
    },
    {
      "cell_type": "markdown",
      "source": [
        "**Your name here:**    <i>Kevin Wong</i>"
      ],
      "metadata": {}
    },
    {
      "cell_type": "code",
      "source": [
        "# This is the Bisection method\n",
        "# l is initial left end point, r is initial right end point\n",
        "# Iter is the number of iterations to run, f is the original function \n",
        "# The function returns the root of f\n",
        "import numpy as np\n",
        "def Bisec(l, r, Iter, f):\n",
        "    cnt = 1\n",
        "    yl = f(l)\n",
        "    yr = f(r)\n",
        "    while cnt < Iter:\n",
        "        c = (l+r)/2\n",
        "        yc = f(c)\n",
        "        if yc==0:break\n",
        "        if np.sign(yc)*np.sign(yr)<0:\n",
        "            l = c\n",
        "            yl = yc\n",
        "        if np.sign(yc)*np.sign(yl)<0:\n",
        "            r = c\n",
        "            yr = yc\n",
        "        cnt = cnt + 1\n",
        "    return c"
      ],
      "outputs": [],
      "execution_count": 1,
      "metadata": {
        "collapsed": true
      }
    },
    {
      "cell_type": "code",
      "source": [
        "# This is the Newton's method\n",
        "# Initial is the initial value, Iter is the number of iterations to run\n",
        "# f is the original function, df is its derivative\n",
        "# The function returns the root of f\n",
        "def  Newton(Initial, Iter, f, df): \n",
        "    cnt = 1\n",
        "    x = Initial\n",
        "    while cnt < Iter:\n",
        "        x = x - f(x)/df(x)\n",
        "        cnt = cnt + 1\n",
        "    return x"
      ],
      "outputs": [],
      "execution_count": 2,
      "metadata": {
        "collapsed": true
      }
    },
    {
      "cell_type": "markdown",
      "source": [
        "---"
      ],
      "metadata": {}
    },
    {
      "cell_type": "markdown",
      "source": [
        "(2) Define $f(x)=x^5-x-1$ and its derivative df in the following cell"
      ],
      "metadata": {}
    },
    {
      "cell_type": "code",
      "source": [
        "# Defining 5th degree polynomial f(x)\n",
        "def f(x):\n",
        "    return x**5 - x - 1"
      ],
      "outputs": [],
      "execution_count": 3,
      "metadata": {
        "collapsed": true
      }
    },
    {
      "cell_type": "code",
      "source": [
        "# Defining the derivative df(x) of the function above, f(x)\n",
        "def df(x):\n",
        "    return 5*x**4 - 1"
      ],
      "outputs": [],
      "execution_count": 4,
      "metadata": {}
    },
    {
      "cell_type": "code",
      "source": [
        "# Python has a built-in function to find root of f\n",
        "from scipy.optimize import brentq\n",
        "brentq(f,-1,1.5)"
      ],
      "outputs": [
        {
          "output_type": "execute_result",
          "execution_count": 5,
          "data": {
            "text/plain": [
              "1.1673039782615267"
            ]
          },
          "metadata": {}
        }
      ],
      "execution_count": 5,
      "metadata": {}
    },
    {
      "cell_type": "markdown",
      "source": [
        "---"
      ],
      "metadata": {}
    },
    {
      "cell_type": "markdown",
      "source": [
        "(3) In the following cell, use previously defined functions to find root of f by Bisection method: left=1, right=1.5, Iter = 5"
      ],
      "metadata": {}
    },
    {
      "cell_type": "code",
      "source": [
        "Bisec(1, 1.5, 5, f)"
      ],
      "outputs": [
        {
          "output_type": "execute_result",
          "execution_count": 6,
          "data": {
            "text/plain": [
              "1.15625"
            ]
          },
          "metadata": {}
        }
      ],
      "execution_count": 6,
      "metadata": {}
    },
    {
      "cell_type": "markdown",
      "source": [
        "---"
      ],
      "metadata": {}
    },
    {
      "cell_type": "markdown",
      "source": [
        "(4) In the following cell, use previously defined functions to find root of f by Newton's method: Initial = 1.5 Iter = 5"
      ],
      "metadata": {}
    },
    {
      "cell_type": "code",
      "source": [
        "Newton(1.5, 5, f, df)"
      ],
      "outputs": [
        {
          "output_type": "execute_result",
          "execution_count": 7,
          "data": {
            "text/plain": [
              "1.1673057868975043"
            ]
          },
          "metadata": {}
        }
      ],
      "execution_count": 7,
      "metadata": {}
    },
    {
      "cell_type": "markdown",
      "source": [
        "---"
      ],
      "metadata": {}
    },
    {
      "cell_type": "markdown",
      "source": [
        "(5) Which method is doing better: <b> Newton's Method </b>"
      ],
      "metadata": {}
    },
    {
      "cell_type": "code",
      "source": [
        "# Bisection Method's Error\n",
        "np.abs(brentq(f,-1,1.5) - Bisec(1, 1.5, 5, f))"
      ],
      "outputs": [
        {
          "output_type": "execute_result",
          "execution_count": 8,
          "data": {
            "text/plain": [
              "0.011053978261526654"
            ]
          },
          "metadata": {}
        }
      ],
      "execution_count": 8,
      "metadata": {}
    },
    {
      "cell_type": "code",
      "source": [
        "# Newton's Method's Error\n",
        "np.abs(brentq(f,-1,1.5) - Newton(1.5, 5, f, df))"
      ],
      "outputs": [
        {
          "output_type": "execute_result",
          "execution_count": 9,
          "data": {
            "text/plain": [
              "1.8086359776514627e-06"
            ]
          },
          "metadata": {}
        }
      ],
      "execution_count": 9,
      "metadata": {}
    },
    {
      "cell_type": "markdown",
      "source": [
        "---"
      ],
      "metadata": {}
    },
    {
      "cell_type": "markdown",
      "source": [
        "(6) In the following cell, use previously defined functions to find root of f by Bisection method: left=0, right=1.5, Iter = 7"
      ],
      "metadata": {}
    },
    {
      "cell_type": "code",
      "source": [
        "Bisec(0, 1.5, 7, f)"
      ],
      "outputs": [
        {
          "output_type": "execute_result",
          "execution_count": 10,
          "data": {
            "text/plain": [
              "1.1484375"
            ]
          },
          "metadata": {}
        }
      ],
      "execution_count": 10,
      "metadata": {}
    },
    {
      "cell_type": "markdown",
      "source": [
        "---"
      ],
      "metadata": {}
    },
    {
      "cell_type": "markdown",
      "source": [
        "(7) In the following cell, use previously defined functions to find root of f by Newton's method: Initial = 0 Iter = 7"
      ],
      "metadata": {}
    },
    {
      "cell_type": "code",
      "source": [
        "# Newton's method fails to converge with starting point x = 0\n",
        "Newton(0, 7, f, df)"
      ],
      "outputs": [
        {
          "output_type": "execute_result",
          "execution_count": 11,
          "data": {
            "text/plain": [
              "0"
            ]
          },
          "metadata": {}
        }
      ],
      "execution_count": 11,
      "metadata": {}
    },
    {
      "cell_type": "markdown",
      "source": [
        "---"
      ],
      "metadata": {}
    },
    {
      "cell_type": "markdown",
      "source": [
        "(8) Which method is doing better this time: <b> Bisection Method </b>"
      ],
      "metadata": {}
    },
    {
      "cell_type": "markdown",
      "source": [
        "---"
      ],
      "metadata": {}
    },
    {
      "cell_type": "markdown",
      "source": [
        "(9) In the next cell, write a function BisecNewton(l,r,Iter,f,df) where you combine Newton's method with bisection: In each iteration, one has an interval [left,right] on which the function changes sign. If the Newton iteration would land outside [left,right], then do not accept it but do a bisection step instead.\n",
        "\n",
        "In your function, you need to check the initial [l,r] has the property that f(l)f(r)<0. Throw an error if not."
      ],
      "metadata": {}
    },
    {
      "cell_type": "code",
      "source": [
        "def BisecNewton(l, r, Iter, f, df):\n",
        "    cnt = 1\n",
        "    \n",
        "    # Compute the y-value of the function at the left and right bounds\n",
        "    yl = f(l)\n",
        "    yr = f(r)\n",
        "    \n",
        "    # Check that the y-values have opposite signs\n",
        "    if(~(np.sign(yl)*np.sign(yr) < 0)):\n",
        "        raise ValueError(\"Initial starting bounds [l,r] do not satisfy f(l)f(r) < 0.\")\n",
        "    \n",
        "    # Set the initial guess to be the midpoint of the left and right bounds\n",
        "    x = (l+r)/2\n",
        "    \n",
        "    while cnt < Iter:\n",
        "        \n",
        "        # Evaluate the next x via Newton's method\n",
        "        x = x - f(x)/df(x)\n",
        "        \n",
        "        # Check to see if x is within the bounds of [l, r]\n",
        "        # If x is outside, do a bisection step instead,\n",
        "        # evaluating x to be the midpoint and setting new [l, r] bounds\n",
        "        if(x < l or x > r):\n",
        "            x = (l+r)/2\n",
        "            yx = f(x)\n",
        "            if yx==0:break\n",
        "            if np.sign(yx)*np.sign(yr)<0:\n",
        "                l = x\n",
        "                yl = yx\n",
        "            if np.sign(yx)*np.sign(yl)<0:\n",
        "                r = x\n",
        "                yr = yx    \n",
        "                \n",
        "        # Increment count by one for each iteration\n",
        "        cnt = cnt + 1\n",
        "    return x"
      ],
      "outputs": [],
      "execution_count": 12,
      "metadata": {}
    },
    {
      "cell_type": "markdown",
      "source": [
        "---"
      ],
      "metadata": {}
    },
    {
      "cell_type": "markdown",
      "source": [
        "(10) Run BisecNewton with the initial interval [0.5,1], 5 iterations"
      ],
      "metadata": {}
    },
    {
      "cell_type": "code",
      "source": [
        "# Throws an error, as expected since the f(.5) and f(1) are both negative\n",
        "BisecNewton(.5, 1, 5, f, df)"
      ],
      "outputs": [
        {
          "output_type": "error",
          "ename": "ValueError",
          "evalue": "Initial starting bounds [l,r] do not satisfy f(l)f(r) < 0.",
          "traceback": [
            "\u001b[0;31m---------------------------------------------------------------------------\u001b[0m",
            "\u001b[0;31mValueError\u001b[0m                                Traceback (most recent call last)",
            "\u001b[0;32m<ipython-input-13-63f33b3e1e47>\u001b[0m in \u001b[0;36m<module>\u001b[0;34m()\u001b[0m\n\u001b[1;32m      1\u001b[0m \u001b[0;31m# Throws an error, as expected since the f(.5) and f(1) are both negative\u001b[0m\u001b[0;34m\u001b[0m\u001b[0;34m\u001b[0m\u001b[0m\n\u001b[0;32m----> 2\u001b[0;31m \u001b[0mBisecNewton\u001b[0m\u001b[0;34m(\u001b[0m\u001b[0;36m.5\u001b[0m\u001b[0;34m,\u001b[0m \u001b[0;36m1\u001b[0m\u001b[0;34m,\u001b[0m \u001b[0;36m5\u001b[0m\u001b[0;34m,\u001b[0m \u001b[0mf\u001b[0m\u001b[0;34m,\u001b[0m \u001b[0mdf\u001b[0m\u001b[0;34m)\u001b[0m\u001b[0;34m\u001b[0m\u001b[0m\n\u001b[0m",
            "\u001b[0;32m<ipython-input-12-dfbb3b342d35>\u001b[0m in \u001b[0;36mBisecNewton\u001b[0;34m(l, r, Iter, f, df)\u001b[0m\n\u001b[1;32m      8\u001b[0m     \u001b[0;31m# Check that the y-values have opposite signs\u001b[0m\u001b[0;34m\u001b[0m\u001b[0;34m\u001b[0m\u001b[0m\n\u001b[1;32m      9\u001b[0m     \u001b[0;32mif\u001b[0m\u001b[0;34m(\u001b[0m\u001b[0;34m~\u001b[0m\u001b[0;34m(\u001b[0m\u001b[0mnp\u001b[0m\u001b[0;34m.\u001b[0m\u001b[0msign\u001b[0m\u001b[0;34m(\u001b[0m\u001b[0myl\u001b[0m\u001b[0;34m)\u001b[0m\u001b[0;34m*\u001b[0m\u001b[0mnp\u001b[0m\u001b[0;34m.\u001b[0m\u001b[0msign\u001b[0m\u001b[0;34m(\u001b[0m\u001b[0myr\u001b[0m\u001b[0;34m)\u001b[0m \u001b[0;34m<\u001b[0m \u001b[0;36m0\u001b[0m\u001b[0;34m)\u001b[0m\u001b[0;34m)\u001b[0m\u001b[0;34m:\u001b[0m\u001b[0;34m\u001b[0m\u001b[0m\n\u001b[0;32m---> 10\u001b[0;31m         \u001b[0;32mraise\u001b[0m \u001b[0mValueError\u001b[0m\u001b[0;34m(\u001b[0m\u001b[0;34m\"Initial starting bounds [l,r] do not satisfy f(l)f(r) < 0.\"\u001b[0m\u001b[0;34m)\u001b[0m\u001b[0;34m\u001b[0m\u001b[0m\n\u001b[0m\u001b[1;32m     11\u001b[0m \u001b[0;34m\u001b[0m\u001b[0m\n\u001b[1;32m     12\u001b[0m     \u001b[0;31m# Set the initial guess to be the midpoint of the left and right bounds\u001b[0m\u001b[0;34m\u001b[0m\u001b[0;34m\u001b[0m\u001b[0m\n",
            "\u001b[0;31mValueError\u001b[0m: Initial starting bounds [l,r] do not satisfy f(l)f(r) < 0."
          ]
        }
      ],
      "execution_count": 13,
      "metadata": {}
    },
    {
      "cell_type": "markdown",
      "source": [
        "---"
      ],
      "metadata": {}
    },
    {
      "cell_type": "markdown",
      "source": [
        "(11) Run BisecNewton with the initial interval [0,1.5], 5 iterations"
      ],
      "metadata": {}
    },
    {
      "cell_type": "code",
      "source": [
        "BisecNewton(0, 1.5, 5, f, df)"
      ],
      "outputs": [
        {
          "output_type": "execute_result",
          "execution_count": 14,
          "data": {
            "text/plain": [
              "1.1673311209649697"
            ]
          },
          "metadata": {}
        }
      ],
      "execution_count": 14,
      "metadata": {}
    }
  ],
  "metadata": {
    "kernelspec": {
      "display_name": "Python 2",
      "language": "python",
      "name": "python2"
    },
    "language_info": {
      "codemirror_mode": {
        "name": "ipython",
        "version": 2
      },
      "file_extension": ".py",
      "mimetype": "text/x-python",
      "name": "python",
      "nbconvert_exporter": "python",
      "pygments_lexer": "ipython2",
      "version": "2.7.13"
    },
    "nteract": {
      "version": "0.14.3"
    }
  },
  "nbformat": 4,
  "nbformat_minor": 2
}