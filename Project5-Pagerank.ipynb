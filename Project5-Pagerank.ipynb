{
  "cells": [
    {
      "cell_type": "markdown",
      "source": [
        "# Project 5: PageRank and Solving Linear Systems with Jacobi Iterations and CGD"
      ],
      "metadata": {}
    },
    {
      "cell_type": "markdown",
      "source": [
        "**Your name here:**    <i>Kevin Wong</i>"
      ],
      "metadata": {}
    },
    {
      "cell_type": "markdown",
      "source": [
        "You can use basic functions from numpy. When I ask you to define a function, you need to write it from scratch. You are free to copy code from my notebooks."
      ],
      "metadata": {}
    },
    {
      "cell_type": "code",
      "source": [
        "import numpy as np\n",
        "import timeit"
      ],
      "outputs": [],
      "execution_count": 2,
      "metadata": {
        "collapsed": true
      }
    },
    {
      "cell_type": "markdown",
      "source": [
        "## Part 1: PageRank algorithm"
      ],
      "metadata": {}
    },
    {
      "cell_type": "markdown",
      "source": [
        "1 (1pt) Run the following command to load this data. This is more than 1000 blogs and how they are linked to each other.\n",
        "\n",
        "Source: Lada A. Adamic and Natalie Glance, \"The political blogosphere and the 2004 US Election\", in Proceedings of the WWW-2005 Workshop on the Weblogging Ecosystem (2005)"
      ],
      "metadata": {}
    },
    {
      "cell_type": "code",
      "source": [
        "blog = np.loadtxt('blog.csv', delimiter=',')"
      ],
      "outputs": [],
      "execution_count": 2,
      "metadata": {
        "collapsed": true
      }
    },
    {
      "cell_type": "code",
      "source": [
        "# blog is now a numpy array. You can print a few rows to see the structure:\n",
        "print blog[:30,:]"
      ],
      "outputs": [
        {
          "output_type": "stream",
          "name": "stdout",
          "text": [
            "[[  267.  1394.]\n",
            " [  267.   483.]\n",
            " [  267.  1051.]\n",
            " [  904.  1479.]\n",
            " [  904.   919.]\n",
            " [  904.  1045.]\n",
            " [  904.  1330.]\n",
            " [  904.  1108.]\n",
            " [  904.   995.]\n",
            " [  904.   963.]\n",
            " [  904.  1000.]\n",
            " [  904.  1192.]\n",
            " [  904.  1067.]\n",
            " [  904.  1270.]\n",
            " [  904.  1437.]\n",
            " [  904.  1037.]\n",
            " [  903.   855.]\n",
            " [  903.  1008.]\n",
            " [  982.  1429.]\n",
            " [  982.   952.]\n",
            " [  982.   892.]\n",
            " [  982.  1479.]\n",
            " [  982.   956.]\n",
            " [  982.  1306.]\n",
            " [  982.   810.]\n",
            " [  982.  1437.]\n",
            " [  982.  1112.]\n",
            " [  982.  1051.]\n",
            " [  982.   826.]\n",
            " [  982.  1478.]]\n"
          ]
        }
      ],
      "execution_count": 3,
      "metadata": {}
    },
    {
      "cell_type": "markdown",
      "source": [
        "This is saying that, for example, Blog 903 has links to blog 855 and blog 1008.\n",
        "\n",
        "2 (3pts) We need to generate a binary square matrix indicating outgoing pages. Recall that for such a matrix, column j indicating the links that blog j has. I've written the code for you since this is not a data processing class."
      ],
      "metadata": {}
    },
    {
      "cell_type": "code",
      "source": [
        "#Get the biggest and smallest blog post ID\n",
        "N_max = np.max(blog)\n",
        "N_min = np.min(blog)\n",
        "print N_max, N_min\n",
        "n = N_max - N_min + 1 #this is the size of the binary matrix\n",
        "n = int(n)"
      ],
      "outputs": [
        {
          "output_type": "stream",
          "name": "stdout",
          "text": [
            "1490.0 1.0\n"
          ]
        }
      ],
      "execution_count": 4,
      "metadata": {}
    },
    {
      "cell_type": "code",
      "source": [
        "# This binary matrix will be called BM (short for blog matrix)\n",
        "BM = np.zeros([n,n])\n",
        "for i in range(blog.shape[0]): #going through each row of the original data\n",
        "    blogID = blog[i,0] \n",
        "    OutB = blog[i,1]\n",
        "    BM[int(OutB - 1),int(blogID -1)] = 1.0 #-1 is because the blog ID starts at 1, but python starts at 0"
      ],
      "outputs": [],
      "execution_count": 5,
      "metadata": {
        "collapsed": true
      }
    },
    {
      "cell_type": "code",
      "source": [
        "# test: as mentioned earlier blog 903 has linkes to blog 855 and blog 1008. \n",
        "# This would mean the two entries below are 1\n",
        "print BM[854,902], BM[1007,902]"
      ],
      "outputs": [
        {
          "output_type": "stream",
          "name": "stdout",
          "text": [
            "1.0 1.0\n"
          ]
        }
      ],
      "execution_count": 6,
      "metadata": {}
    },
    {
      "cell_type": "markdown",
      "source": [
        " 3 (4pts) Check if there is a dangling page: a page that does not have any outgoing links. If there is, alter that column to represent a self-link."
      ],
      "metadata": {}
    },
    {
      "cell_type": "code",
      "source": [
        "# Confirming that BM is sqaure matrix\n",
        "print BM.shape[0], BM.shape[1]"
      ],
      "outputs": [
        {
          "output_type": "stream",
          "name": "stdout",
          "text": [
            "1490 1490\n"
          ]
        }
      ],
      "execution_count": 7,
      "metadata": {}
    },
    {
      "cell_type": "code",
      "source": [
        "# 159 pages don't have any outgoing links\n",
        "\n",
        "dangleCount = 0\n",
        "\n",
        "for i in range(BM.shape[0]):\n",
        "    hasOutgoing = False\n",
        "    \n",
        "    # Iterate down the column, checking for outgoing links\n",
        "    for j in range(BM.shape[1]):\n",
        "        if(BM[j][i] == 1.0):\n",
        "            hasOutgoing = True\n",
        "    \n",
        "    # Updating the counter and setting a self-link\n",
        "    if(not hasOutgoing):\n",
        "        dangleCount += 1\n",
        "        BM[i][i] = 1.0\n",
        "\n",
        "print dangleCount"
      ],
      "outputs": [
        {
          "output_type": "stream",
          "name": "stdout",
          "text": [
            "159\n"
          ]
        }
      ],
      "execution_count": 28,
      "metadata": {}
    },
    {
      "cell_type": "code",
      "source": [
        "# After altering to represent an outgoing link to itself, there are 0 dangling pages\n",
        "\n",
        "dangleCount2 = 0\n",
        "\n",
        "for i in range(BM.shape[0]):\n",
        "    hasOutgoing = False\n",
        "    for j in range(BM.shape[1]):\n",
        "        if(BM[i][j] == 1.0):\n",
        "            hasOutgoing = True\n",
        "            \n",
        "    if(not hasOutgoing):\n",
        "        dangleCount2 += 1\n",
        "\n",
        "print dangleCount2"
      ],
      "outputs": [
        {
          "output_type": "stream",
          "name": "stdout",
          "text": [
            "0\n"
          ]
        }
      ],
      "execution_count": 29,
      "metadata": {}
    },
    {
      "cell_type": "markdown",
      "source": [
        "4 (3pts) Normalize each column such that each column sums to 1. Now we have obtained a probability transition matrix BMP."
      ],
      "metadata": {}
    },
    {
      "cell_type": "code",
      "source": [
        "# A list representing the number of outgoing edges from each blog\n",
        "outgoingSum = np.sum(BM, axis = 0)\n",
        "outgoingSum"
      ],
      "outputs": [
        {
          "output_type": "execute_result",
          "execution_count": 30,
          "data": {
            "text/plain": [
              "array([ 15.,  43.,   1., ...,   2.,   8.,   2.])"
            ]
          },
          "metadata": {}
        }
      ],
      "execution_count": 30,
      "metadata": {}
    },
    {
      "cell_type": "code",
      "source": [
        "# Confirming that all blogs have an outgoing edge now\n",
        "0 in outgoingSum"
      ],
      "outputs": [
        {
          "output_type": "execute_result",
          "execution_count": 31,
          "data": {
            "text/plain": [
              "False"
            ]
          },
          "metadata": {}
        }
      ],
      "execution_count": 31,
      "metadata": {}
    },
    {
      "cell_type": "code",
      "source": [
        "BM"
      ],
      "outputs": [
        {
          "output_type": "execute_result",
          "execution_count": 32,
          "data": {
            "text/plain": [
              "array([[ 0.,  1.,  0., ...,  0.,  0.,  0.],\n",
              "       [ 0.,  0.,  0., ...,  0.,  0.,  0.],\n",
              "       [ 0.,  0.,  1., ...,  0.,  0.,  0.],\n",
              "       ..., \n",
              "       [ 0.,  0.,  0., ...,  1.,  0.,  0.],\n",
              "       [ 0.,  0.,  0., ...,  1.,  0.,  0.],\n",
              "       [ 0.,  0.,  0., ...,  0.,  0.,  1.]])"
            ]
          },
          "metadata": {}
        }
      ],
      "execution_count": 32,
      "metadata": {}
    },
    {
      "cell_type": "code",
      "source": [
        "BMP = BM/np.outer(np.ones(BM.shape[0]), outgoingSum)"
      ],
      "outputs": [],
      "execution_count": 33,
      "metadata": {
        "collapsed": true
      }
    },
    {
      "cell_type": "code",
      "source": [
        "# Probabibility transition matrix\n",
        "BMP"
      ],
      "outputs": [
        {
          "output_type": "execute_result",
          "execution_count": 36,
          "data": {
            "text/plain": [
              "array([[ 0.        ,  0.02325581,  0.        , ...,  0.        ,\n",
              "         0.        ,  0.        ],\n",
              "       [ 0.        ,  0.        ,  0.        , ...,  0.        ,\n",
              "         0.        ,  0.        ],\n",
              "       [ 0.        ,  0.        ,  1.        , ...,  0.        ,\n",
              "         0.        ,  0.        ],\n",
              "       ..., \n",
              "       [ 0.        ,  0.        ,  0.        , ...,  0.5       ,\n",
              "         0.        ,  0.        ],\n",
              "       [ 0.        ,  0.        ,  0.        , ...,  0.5       ,\n",
              "         0.        ,  0.        ],\n",
              "       [ 0.        ,  0.        ,  0.        , ...,  0.        ,\n",
              "         0.        ,  0.5       ]])"
            ]
          },
          "metadata": {}
        }
      ],
      "execution_count": 36,
      "metadata": {}
    },
    {
      "cell_type": "markdown",
      "source": [
        "5 (2pts) Define another probability transition matrix M to allow random visits to other blogs. Pick $\\delta=0.85$."
      ],
      "metadata": {}
    },
    {
      "cell_type": "code",
      "source": [
        "# Delta represents the probability of choosing a link from the blog page we are on\n",
        "delta = .85\n",
        "\n",
        "# M incorporates the idea that we can jump to any blog with (1 - delta) probability\n",
        "M = delta*BMP + ((1-delta) / n) * np.outer(np.ones(BMP.shape[0]),np.ones(BMP.shape[0]))"
      ],
      "outputs": [],
      "execution_count": 37,
      "metadata": {
        "collapsed": true
      }
    },
    {
      "cell_type": "code",
      "source": [
        "M"
      ],
      "outputs": [
        {
          "output_type": "execute_result",
          "execution_count": 38,
          "data": {
            "text/plain": [
              "array([[  1.00671141e-04,   1.98681130e-02,   1.00671141e-04, ...,\n",
              "          1.00671141e-04,   1.00671141e-04,   1.00671141e-04],\n",
              "       [  1.00671141e-04,   1.00671141e-04,   1.00671141e-04, ...,\n",
              "          1.00671141e-04,   1.00671141e-04,   1.00671141e-04],\n",
              "       [  1.00671141e-04,   1.00671141e-04,   8.50100671e-01, ...,\n",
              "          1.00671141e-04,   1.00671141e-04,   1.00671141e-04],\n",
              "       ..., \n",
              "       [  1.00671141e-04,   1.00671141e-04,   1.00671141e-04, ...,\n",
              "          4.25100671e-01,   1.00671141e-04,   1.00671141e-04],\n",
              "       [  1.00671141e-04,   1.00671141e-04,   1.00671141e-04, ...,\n",
              "          4.25100671e-01,   1.00671141e-04,   1.00671141e-04],\n",
              "       [  1.00671141e-04,   1.00671141e-04,   1.00671141e-04, ...,\n",
              "          1.00671141e-04,   1.00671141e-04,   4.25100671e-01]])"
            ]
          },
          "metadata": {}
        }
      ],
      "execution_count": 38,
      "metadata": {}
    },
    {
      "cell_type": "markdown",
      "source": [
        "6 (6pts) Use the power method to find the eigenvector (corresponding to the biggest eigenvalue) of M. Name this vector RV (short for ranking vector). Your algorithm terminates when RV[i] is changing less then $\\epsilon=10^{-10}$ for each entry i. Remember to start with a vector whose entries are all nonnegative and entries sum to 1. "
      ],
      "metadata": {}
    },
    {
      "cell_type": "code",
      "source": [
        "# Power method function with custom termination condition, returns the ranking vector\n",
        "# The ranking vector represents which pages are \"more important\"\n",
        "def Anx(A,x0): \n",
        "    x = x0\n",
        "    terminate = False\n",
        "    while(not terminate):\n",
        "        x_prev = x\n",
        "        x = np.dot(A,x)\n",
        "        if all(np.abs(x-x_prev) < 1e-10):\n",
        "            terminate = True\n",
        "            \n",
        "    return x"
      ],
      "outputs": [],
      "execution_count": 58,
      "metadata": {
        "collapsed": true
      }
    },
    {
      "cell_type": "code",
      "source": [
        "# Initialize a starting vector \n",
        "x0 = np.ones(M.shape[0])/M.shape[0]\n",
        "\n",
        "# Using the power method with termination condition on the starting vector to find the ranking vector\n",
        "RV = Anx(M, x0)\n",
        "print RV"
      ],
      "outputs": [
        {
          "output_type": "stream",
          "name": "stdout",
          "text": [
            "[ 0.00018325  0.00018311  0.00067114 ...,  0.00017508  0.00043178\n",
            "  0.00017508]\n"
          ]
        }
      ],
      "execution_count": 57,
      "metadata": {}
    },
    {
      "cell_type": "code",
      "source": [
        "# Finding the ranking vector through eigenvalue/eigenvectors of matrix M\n",
        "e,v = np.linalg.eig(M)\n",
        "e"
      ],
      "outputs": [
        {
          "output_type": "execute_result",
          "execution_count": 47,
          "data": {
            "text/plain": [
              "array([ 1.0000+0.j, -0.8500+0.j,  0.7753+0.j, ...,  0.8500+0.j,\n",
              "        0.8500+0.j,  0.8500+0.j])"
            ]
          },
          "metadata": {}
        }
      ],
      "execution_count": 47,
      "metadata": {}
    },
    {
      "cell_type": "code",
      "source": [
        "# This is the same ranking vector as the one found through the power method!\n",
        "v[:,0]/sum(v[:,0])"
      ],
      "outputs": [
        {
          "output_type": "execute_result",
          "execution_count": 59,
          "data": {
            "text/plain": [
              "array([ 0.00018325-0.j,  0.00018311-0.j,  0.00067114-0.j, ...,\n",
              "        0.00017508-0.j,  0.00043178-0.j,  0.00017508-0.j])"
            ]
          },
          "metadata": {}
        }
      ],
      "execution_count": 59,
      "metadata": {}
    },
    {
      "cell_type": "markdown",
      "source": [
        "7 (4pts) List the top 10 blog ID's. np.argsort might be useful."
      ],
      "metadata": {}
    },
    {
      "cell_type": "code",
      "source": [
        "# For comparison\n",
        "np.mean(RV)"
      ],
      "outputs": [
        {
          "output_type": "execute_result",
          "execution_count": 125,
          "data": {
            "text/plain": [
              "0.00067114093959733839"
            ]
          },
          "metadata": {}
        }
      ],
      "execution_count": 125,
      "metadata": {}
    },
    {
      "cell_type": "code",
      "source": [
        "# The most \"popular\" page\n",
        "np.max(RV)"
      ],
      "outputs": [
        {
          "output_type": "execute_result",
          "execution_count": 126,
          "data": {
            "text/plain": [
              "0.030362245646177701"
            ]
          },
          "metadata": {}
        }
      ],
      "execution_count": 126,
      "metadata": {}
    },
    {
      "cell_type": "code",
      "source": [
        "# The index corresponding to the most popular page\n",
        "np.argmax(RV)"
      ],
      "outputs": [
        {
          "output_type": "execute_result",
          "execution_count": 128,
          "data": {
            "text/plain": [
              "797"
            ]
          },
          "metadata": {}
        }
      ],
      "execution_count": 128,
      "metadata": {}
    },
    {
      "cell_type": "code",
      "source": [
        "# The top 10 most popular pages, adjusted for correct blog index in the blog matrix \n",
        "for i in np.argsort(-RV)[:10]:\n",
        "    print \"Blog #\" + str(i+1) + \" --- \" + str(RV[i])"
      ],
      "outputs": [
        {
          "output_type": "stream",
          "name": "stdout",
          "text": [
            "Blog #798 --- 0.0303622456462\n",
            "Blog #990 --- 0.0213360571022\n",
            "Blog #1067 --- 0.0185183079035\n",
            "Blog #514 --- 0.0183109888623\n",
            "Blog #1086 --- 0.0181374889575\n",
            "Blog #233 --- 0.013384383554\n",
            "Blog #1122 --- 0.0126842590903\n",
            "Blog #979 --- 0.0115481674122\n",
            "Blog #996 --- 0.0113412860744\n",
            "Blog #154 --- 0.0112196459035\n"
          ]
        }
      ],
      "execution_count": 148,
      "metadata": {}
    },
    {
      "cell_type": "markdown",
      "source": [
        "8 (2pts) List the top 10 blog ID's when $\\delta = 0.75$."
      ],
      "metadata": {}
    },
    {
      "cell_type": "code",
      "source": [
        "# Adjusting delta and observing a slight change in results\n",
        "delta = .75\n",
        "\n",
        "M = delta*BMP + ((1-delta) / n) * np.outer(np.ones(BMP.shape[0]),np.ones(BMP.shape[0]))\n",
        "RV = Anx(M, x0)\n",
        "for i in np.argsort(-RV)[:10]:\n",
        "    print \"Blog #\" + str(i+1) + \" --- \" + str(RV[i])"
      ],
      "outputs": [
        {
          "output_type": "stream",
          "name": "stdout",
          "text": [
            "Blog #798 --- 0.0192455149453\n",
            "Blog #990 --- 0.0138910497666\n",
            "Blog #1067 --- 0.0119997005676\n",
            "Blog #514 --- 0.0117657947364\n",
            "Blog #1086 --- 0.011284780716\n",
            "Blog #155 --- 0.010341238177\n",
            "Blog #979 --- 0.00933566945987\n",
            "Blog #996 --- 0.00908912052391\n",
            "Blog #1122 --- 0.00838023903098\n",
            "Blog #55 --- 0.00828258927002\n"
          ]
        }
      ],
      "execution_count": 150,
      "metadata": {}
    },
    {
      "cell_type": "markdown",
      "source": [
        "## Part 2: Solving Ax = b\n"
      ],
      "metadata": {}
    },
    {
      "cell_type": "code",
      "source": [
        "# run this code that you've seen in class\n",
        "def CnstrPD(n, a):\n",
        "    RM = np.random.randn(n,n) \n",
        "    q,r = np.linalg.qr(RM)\n",
        "    z = (np.random.rand(n)+a)\n",
        "    A = q.dot(np.diag(z)).dot(q.T)\n",
        "    return A"
      ],
      "outputs": [],
      "execution_count": 23,
      "metadata": {
        "collapsed": true
      }
    },
    {
      "cell_type": "code",
      "source": [
        "# run this cell to construct A,b. It took about 15 seconds on my laptop\n",
        "A = CnstrPD(5000, 0.1)\n",
        "b = np.random.randn(5000)"
      ],
      "outputs": [],
      "execution_count": 24,
      "metadata": {
        "collapsed": true
      }
    },
    {
      "cell_type": "markdown",
      "source": [
        "1 (4pts) Explain what kind of matrix CnstrPD(5000,0.1) will generate and what the worse (biggest) condition number can be."
      ],
      "metadata": {}
    },
    {
      "cell_type": "markdown",
      "source": [
        "Write your answer for 1 here:\n",
        "\n",
        "*A is a matrix similar to Z, and diagonalized by orthonormal matrix Q.  Therefore, it is both positive definite AND symmetric.  The worst condition number, k(A), since A is invertible is its biggest singular value over its smallest.  Z is symmetric, and represents the eigenvalues of A, so A's singular values are the absolute values of the diagonal values ranging from .1 to 5000.1.  Thereore the worst condition number is 5000.1 / .1  = 50,000.1*"
      ],
      "metadata": {}
    },
    {
      "cell_type": "markdown",
      "source": [
        "2 (3pts) Solve Ax=b using Gauss elimination. Call the solution x_g. Print the first 10 entries of x_g and print the running time."
      ],
      "metadata": {}
    },
    {
      "cell_type": "code",
      "source": [
        "start = timeit.time.time()\n",
        "x_g = np.linalg.solve(A, b)\n",
        "end = timeit.time.time()\n",
        "\n",
        "print \"Solved Ax = b using Gauss elimination in \" + str(end-start) + \" seconds\"\n",
        "print \"First ten entries: \"\n",
        "print x_g[:10]"
      ],
      "outputs": [
        {
          "output_type": "stream",
          "name": "stdout",
          "text": [
            "Solved Ax = b using Gauss elimination in 2.06344485283 seconds\n",
            "First ten entries: \n",
            "[ 1.31393705 -0.10589696 -1.37506218 -1.13309478  6.33790306  2.91353598\n",
            " -2.32231509  1.80470705 -1.4789492  -1.75867477]\n"
          ]
        }
      ],
      "execution_count": 33,
      "metadata": {}
    },
    {
      "cell_type": "markdown",
      "source": [
        "3 (5pts) Write a function Jacobi(A,b,e) to solve Ax=b. e is the tolerance level. Your algorithm terminates when x[i] is changing less than e for each entry."
      ],
      "metadata": {}
    },
    {
      "cell_type": "code",
      "source": [
        "def get_diag(M):\n",
        "    return np.identity(M.shape[0]) * np.diag(M)\n",
        "\n",
        "def Jacobi(A, b, e):\n",
        "    \n",
        "    diagonal_A = get_diag(A)\n",
        "    x = np.linalg.solve(diagonal_A, b)\n",
        "    \n",
        "    terminate = False\n",
        "    while(not terminate):\n",
        "\n",
        "        Ax = np.dot(A, x)\n",
        "        residual = b - Ax\n",
        "        error = np.linalg.solve(diagonal_A, residual)\n",
        "        x_next = x + error\n",
        "        if all(np.abs(x-x_next) < e):\n",
        "            terminate = True\n",
        "            \n",
        "        x = x_next\n",
        "        \n",
        "    return x_next"
      ],
      "outputs": [],
      "execution_count": 94,
      "metadata": {}
    },
    {
      "cell_type": "markdown",
      "source": [
        "4 (2pts) Solve Ax=b using Jacobi iteration with e=$10^{-8}$. Call the solution x_j. Print the first 10 entries of x_j and print the running time."
      ],
      "metadata": {
        "collapsed": true
      }
    },
    {
      "cell_type": "code",
      "source": [
        "start = timeit.time.time()\n",
        "x_j = Jacobi(A, b, 1e-8)\n",
        "end = timeit.time.time()\n",
        "\n",
        "print \"Solved Ax = b using Jacobi iteration in \" + str(end-start) + \" seconds\"\n",
        "print \"First ten entries: \"\n",
        "print x_j[:10]"
      ],
      "outputs": [
        {
          "output_type": "stream",
          "name": "stdout",
          "text": [
            "Iteration: 10\n",
            "Iteration: 20\n",
            "Iteration: 30\n",
            "Iteration: 40\n",
            "Iteration: 50\n",
            "Iteration: 60\n",
            "Iteration: 70\n",
            "Iteration: 80\n",
            "Iteration: 90\n",
            "Iteration: 100\n",
            "Solved Ax = b using Jacobi iteration in 242.990867138 seconds\n",
            "First ten entries: \n",
            "[ 1.31393705 -0.10589696 -1.37506218 -1.13309478  6.33790305  2.91353597\n",
            " -2.32231509  1.80470705 -1.4789492  -1.75867477]\n"
          ]
        }
      ],
      "execution_count": 76,
      "metadata": {}
    },
    {
      "cell_type": "markdown",
      "source": [
        "5 (5pts) Write a function CGD(A,b,e) to solve Ax=b. e is the tolerance level. Your algorithm terminates when x[i] is changing less than e for each entry."
      ],
      "metadata": {}
    },
    {
      "cell_type": "code",
      "source": [
        "def CGD(A, b, e):\n",
        "    \n",
        "    # Initializing \n",
        "    x = np.zeros(A.shape[1])\n",
        "    r = b - np.dot(A, x)\n",
        "    p = r\n",
        "    \n",
        "    terminate = False\n",
        "    while(not terminate):\n",
        "\n",
        "        Ap = np.dot(A,p)\n",
        "        t = np.dot(p.T, r) / np.dot(p.T, A).dot(p)\n",
        "        x_next = x + t*p\n",
        "        r = r - t*Ap\n",
        "        a = -(np.dot(r.T, Ap)) / np.dot(p.T, Ap)\n",
        "        p = r + a*p\n",
        "        if all(np.abs(x-x_next) < e):\n",
        "            terminate = True\n",
        "            \n",
        "        x = x_next\n",
        "    \n",
        "    return x_next"
      ],
      "outputs": [],
      "execution_count": 95,
      "metadata": {
        "collapsed": true
      }
    },
    {
      "cell_type": "markdown",
      "source": [
        "6 (2pts) Solve Ax=b using CGD with e=$10^{-8}$. Call the solution x_cg. Print the first 10 entries of x_cg and print the running time."
      ],
      "metadata": {}
    },
    {
      "cell_type": "code",
      "source": [
        "start = timeit.time.time()\n",
        "x_cg = CGD(A, b, 1e-8)\n",
        "end = timeit.time.time()\n",
        "\n",
        "print \"Solved Ax = b using Conjugate Gradient Descent in \" + str(end-start) + \" seconds\"\n",
        "print \"First ten entries: \"\n",
        "print x_cg[:10]"
      ],
      "outputs": [
        {
          "output_type": "stream",
          "name": "stdout",
          "text": [
            "Solved Ax = b using Conjugate Gradient Descent in 0.872001171112 seconds\n",
            "First ten entries: \n",
            "[ 1.31393705 -0.10589696 -1.37506218 -1.13309478  6.33790306  2.91353598\n",
            " -2.32231509  1.80470705 -1.47894921 -1.75867477]\n"
          ]
        }
      ],
      "execution_count": 96,
      "metadata": {}
    },
    {
      "cell_type": "markdown",
      "source": [
        "7 (4pts) Run Jacobi, and CGD for other different tolerence levels and list your result in this table below."
      ],
      "metadata": {}
    },
    {
      "cell_type": "code",
      "source": [
        "errors = [1e-5, 1e-6, 1e-7]\n",
        "for e in errors:\n",
        "    start = timeit.time.time()\n",
        "    x_jacobi = Jacobi(A, b, e)\n",
        "    end = timeit.time.time()\n",
        "    print \"Jacobi with error \" + str(e) + \": \" + str(end-start)\n",
        "    \n",
        "    start = timeit.time.time()\n",
        "    x_CD = CGD(A, b, e)\n",
        "    end = timeit.time.time()\n",
        "    print \"CGD with error \" + str(e) + \": \" + str(end-start)\n",
        "    "
      ],
      "outputs": [
        {
          "output_type": "stream",
          "name": "stdout",
          "text": [
            "Jacobi with error 1e-05: 144.878695011\n",
            "CGD with error 1e-05: 0.719403982162\n",
            "Jacobi with error 1e-06: 174.719483852\n",
            "CGD with error 1e-06: 0.714285135269\n",
            "Jacobi with error 1e-07: 202.818871021\n",
            "CGD with error 1e-07: 0.87762093544\n"
          ]
        }
      ],
      "execution_count": 97,
      "metadata": {}
    },
    {
      "cell_type": "markdown",
      "source": [
        "Record running time (rounded to 3 decimals) in this table: \n",
        "\n",
        "||e=$10^{-5}$ | e=$10^{-6}$ | e=$10^{-7}$ | e=$10^{-8}$|\n",
        "|:---|:--- | :---  | :---  | :---  |\n",
        "|Jacobi|144.879|174.719|202.819|242.991|\n",
        "|CGD|0.719|0.714|0.878|0.872|\n",
        "|Gaussian elimination|2.063|2.063|2.063|2.063|"
      ],
      "metadata": {}
    }
  ],
  "metadata": {
    "kernelspec": {
      "display_name": "Python 2",
      "language": "python",
      "name": "python2"
    },
    "language_info": {
      "codemirror_mode": {
        "name": "ipython",
        "version": 2
      },
      "file_extension": ".py",
      "mimetype": "text/x-python",
      "name": "python",
      "nbconvert_exporter": "python",
      "pygments_lexer": "ipython2",
      "version": "2.7.13"
    },
    "nteract": {
      "version": "0.14.3"
    }
  },
  "nbformat": 4,
  "nbformat_minor": 2
}